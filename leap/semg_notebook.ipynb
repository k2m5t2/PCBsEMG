{
 "cells": [
  {
   "cell_type": "code",
   "execution_count": 1,
   "metadata": {},
   "outputs": [],
   "source": [
    "# imports\n",
    "import numpy as np\n",
    "import pandas as pd\n",
    "from fastai.tabular.all import *\n",
    "# from scipy.spatial.transform import Rotation as R"
   ]
  },
  {
   "cell_type": "code",
   "execution_count": 2,
   "metadata": {},
   "outputs": [],
   "source": [
    "# helpers\n",
    "def r_mse(pred,y): return round(math.sqrt(((pred-y)**2).mean()), 6)\n",
    "\n",
    "def split(df, ratio, length): \n",
    "    marker = int(length * ratio)\n",
    "    train_idx = np.where(df[:marker])[0]\n",
    "    valid_idx = np.where(df[marker:])[0]\n",
    "    splits = (list(train_idx),list(valid_idx)); return splits\n",
    "\n",
    "FINGERS = ['Thumb', 'Index', 'Middle', 'Ring', 'Pinky']\n",
    "BONES = ['Metacarpal', 'Proximal', 'Intermediate', 'Distal']\n",
    "AXES = ['X', 'Y', 'Z']"
   ]
  },
  {
   "cell_type": "code",
   "execution_count": 3,
   "metadata": {},
   "outputs": [],
   "source": [
    "# columns\n",
    "input_cols = ['E1', 'E2', 'E3', 'E4', 'E5', 'E6']\n",
    "output_cols = [f+'_'+b+'_'+axis for f in FINGERS for b in BONES for axis in AXES]"
   ]
  },
  {
   "cell_type": "code",
   "execution_count": 4,
   "metadata": {},
   "outputs": [],
   "source": [
    "# data\n",
    "num = input(\"Dataset number to use\") # implement plural?\n",
    "dirc = pd.read_csv('./data/'+num+'_dirc.csv')\n",
    "dirc = dirc.loc[(dirc != 0).any(1)]\n",
    "semg = pd.read_csv('./data/'+num+'_semg.csv') \n",
    "semg = semg.loc[(semg != 0).any(1)] "
   ]
  },
  {
   "cell_type": "markdown",
   "metadata": {},
   "source": [
    "# Train"
   ]
  },
  {
   "cell_type": "code",
   "execution_count": 5,
   "metadata": {},
   "outputs": [],
   "source": [
    "df = pd.concat([semg, dirc], axis=1)"
   ]
  },
  {
   "cell_type": "code",
   "execution_count": 6,
   "metadata": {},
   "outputs": [
    {
     "data": {
      "text/html": [
       "<div>\n",
       "<style scoped>\n",
       "    .dataframe tbody tr th:only-of-type {\n",
       "        vertical-align: middle;\n",
       "    }\n",
       "\n",
       "    .dataframe tbody tr th {\n",
       "        vertical-align: top;\n",
       "    }\n",
       "\n",
       "    .dataframe thead th {\n",
       "        text-align: right;\n",
       "    }\n",
       "</style>\n",
       "<table border=\"1\" class=\"dataframe\">\n",
       "  <thead>\n",
       "    <tr style=\"text-align: right;\">\n",
       "      <th></th>\n",
       "      <th>E1</th>\n",
       "      <th>E2</th>\n",
       "      <th>E3</th>\n",
       "      <th>E4</th>\n",
       "      <th>E5</th>\n",
       "      <th>E6</th>\n",
       "      <th>Thumb_Metacarpal_X</th>\n",
       "      <th>Thumb_Metacarpal_Y</th>\n",
       "      <th>Thumb_Metacarpal_Z</th>\n",
       "      <th>Thumb_Proximal_X</th>\n",
       "      <th>...</th>\n",
       "      <th>Pinky_Metacarpal_Z</th>\n",
       "      <th>Pinky_Proximal_X</th>\n",
       "      <th>Pinky_Proximal_Y</th>\n",
       "      <th>Pinky_Proximal_Z</th>\n",
       "      <th>Pinky_Intermediate_X</th>\n",
       "      <th>Pinky_Intermediate_Y</th>\n",
       "      <th>Pinky_Intermediate_Z</th>\n",
       "      <th>Pinky_Distal_X</th>\n",
       "      <th>Pinky_Distal_Y</th>\n",
       "      <th>Pinky_Distal_Z</th>\n",
       "    </tr>\n",
       "  </thead>\n",
       "  <tbody>\n",
       "    <tr>\n",
       "      <th>57</th>\n",
       "      <td>4017.0</td>\n",
       "      <td>4010.0</td>\n",
       "      <td>4021.0</td>\n",
       "      <td>4095.0</td>\n",
       "      <td>1291.0</td>\n",
       "      <td>3605.0</td>\n",
       "      <td>0.0</td>\n",
       "      <td>0.0</td>\n",
       "      <td>0.0</td>\n",
       "      <td>-0.975</td>\n",
       "      <td>...</td>\n",
       "      <td>-0.400</td>\n",
       "      <td>-0.380</td>\n",
       "      <td>0.766</td>\n",
       "      <td>-0.519</td>\n",
       "      <td>-0.559</td>\n",
       "      <td>0.773</td>\n",
       "      <td>-0.302</td>\n",
       "      <td>-0.720</td>\n",
       "      <td>0.693</td>\n",
       "      <td>-0.028</td>\n",
       "    </tr>\n",
       "    <tr>\n",
       "      <th>58</th>\n",
       "      <td>4017.0</td>\n",
       "      <td>4011.0</td>\n",
       "      <td>4021.0</td>\n",
       "      <td>4095.0</td>\n",
       "      <td>1291.0</td>\n",
       "      <td>3605.0</td>\n",
       "      <td>0.0</td>\n",
       "      <td>0.0</td>\n",
       "      <td>0.0</td>\n",
       "      <td>-0.943</td>\n",
       "      <td>...</td>\n",
       "      <td>-0.346</td>\n",
       "      <td>-0.463</td>\n",
       "      <td>0.877</td>\n",
       "      <td>-0.126</td>\n",
       "      <td>-0.514</td>\n",
       "      <td>0.855</td>\n",
       "      <td>-0.069</td>\n",
       "      <td>-0.709</td>\n",
       "      <td>0.691</td>\n",
       "      <td>0.141</td>\n",
       "    </tr>\n",
       "    <tr>\n",
       "      <th>59</th>\n",
       "      <td>4017.0</td>\n",
       "      <td>4011.0</td>\n",
       "      <td>4018.0</td>\n",
       "      <td>4095.0</td>\n",
       "      <td>1291.0</td>\n",
       "      <td>3605.0</td>\n",
       "      <td>0.0</td>\n",
       "      <td>0.0</td>\n",
       "      <td>0.0</td>\n",
       "      <td>-0.870</td>\n",
       "      <td>...</td>\n",
       "      <td>-0.303</td>\n",
       "      <td>-0.437</td>\n",
       "      <td>0.886</td>\n",
       "      <td>-0.159</td>\n",
       "      <td>-0.469</td>\n",
       "      <td>0.882</td>\n",
       "      <td>-0.049</td>\n",
       "      <td>-0.530</td>\n",
       "      <td>0.803</td>\n",
       "      <td>0.274</td>\n",
       "    </tr>\n",
       "    <tr>\n",
       "      <th>60</th>\n",
       "      <td>4010.0</td>\n",
       "      <td>3999.0</td>\n",
       "      <td>4023.0</td>\n",
       "      <td>4095.0</td>\n",
       "      <td>1285.0</td>\n",
       "      <td>2807.0</td>\n",
       "      <td>0.0</td>\n",
       "      <td>0.0</td>\n",
       "      <td>0.0</td>\n",
       "      <td>-0.888</td>\n",
       "      <td>...</td>\n",
       "      <td>-0.227</td>\n",
       "      <td>-0.417</td>\n",
       "      <td>0.882</td>\n",
       "      <td>-0.219</td>\n",
       "      <td>-0.429</td>\n",
       "      <td>0.890</td>\n",
       "      <td>-0.155</td>\n",
       "      <td>-0.460</td>\n",
       "      <td>0.827</td>\n",
       "      <td>0.322</td>\n",
       "    </tr>\n",
       "    <tr>\n",
       "      <th>61</th>\n",
       "      <td>4010.0</td>\n",
       "      <td>4016.0</td>\n",
       "      <td>4023.0</td>\n",
       "      <td>4095.0</td>\n",
       "      <td>1285.0</td>\n",
       "      <td>2807.0</td>\n",
       "      <td>0.0</td>\n",
       "      <td>0.0</td>\n",
       "      <td>0.0</td>\n",
       "      <td>-0.973</td>\n",
       "      <td>...</td>\n",
       "      <td>-0.221</td>\n",
       "      <td>-0.394</td>\n",
       "      <td>0.881</td>\n",
       "      <td>-0.263</td>\n",
       "      <td>-0.394</td>\n",
       "      <td>0.881</td>\n",
       "      <td>-0.263</td>\n",
       "      <td>-0.413</td>\n",
       "      <td>0.796</td>\n",
       "      <td>0.441</td>\n",
       "    </tr>\n",
       "    <tr>\n",
       "      <th>...</th>\n",
       "      <td>...</td>\n",
       "      <td>...</td>\n",
       "      <td>...</td>\n",
       "      <td>...</td>\n",
       "      <td>...</td>\n",
       "      <td>...</td>\n",
       "      <td>...</td>\n",
       "      <td>...</td>\n",
       "      <td>...</td>\n",
       "      <td>...</td>\n",
       "      <td>...</td>\n",
       "      <td>...</td>\n",
       "      <td>...</td>\n",
       "      <td>...</td>\n",
       "      <td>...</td>\n",
       "      <td>...</td>\n",
       "      <td>...</td>\n",
       "      <td>...</td>\n",
       "      <td>...</td>\n",
       "      <td>...</td>\n",
       "      <td>...</td>\n",
       "    </tr>\n",
       "    <tr>\n",
       "      <th>1926</th>\n",
       "      <td>1415.0</td>\n",
       "      <td>134.0</td>\n",
       "      <td>145.0</td>\n",
       "      <td>4095.0</td>\n",
       "      <td>1319.0</td>\n",
       "      <td>369.0</td>\n",
       "      <td>0.0</td>\n",
       "      <td>0.0</td>\n",
       "      <td>0.0</td>\n",
       "      <td>-0.653</td>\n",
       "      <td>...</td>\n",
       "      <td>-0.907</td>\n",
       "      <td>-0.541</td>\n",
       "      <td>-0.840</td>\n",
       "      <td>0.054</td>\n",
       "      <td>-0.268</td>\n",
       "      <td>0.037</td>\n",
       "      <td>0.963</td>\n",
       "      <td>0.236</td>\n",
       "      <td>0.703</td>\n",
       "      <td>0.671</td>\n",
       "    </tr>\n",
       "    <tr>\n",
       "      <th>1927</th>\n",
       "      <td>1625.0</td>\n",
       "      <td>128.0</td>\n",
       "      <td>145.0</td>\n",
       "      <td>4095.0</td>\n",
       "      <td>1319.0</td>\n",
       "      <td>369.0</td>\n",
       "      <td>0.0</td>\n",
       "      <td>0.0</td>\n",
       "      <td>0.0</td>\n",
       "      <td>-0.643</td>\n",
       "      <td>...</td>\n",
       "      <td>-0.895</td>\n",
       "      <td>-0.567</td>\n",
       "      <td>-0.822</td>\n",
       "      <td>0.054</td>\n",
       "      <td>-0.284</td>\n",
       "      <td>0.040</td>\n",
       "      <td>0.958</td>\n",
       "      <td>0.239</td>\n",
       "      <td>0.691</td>\n",
       "      <td>0.683</td>\n",
       "    </tr>\n",
       "    <tr>\n",
       "      <th>1928</th>\n",
       "      <td>1625.0</td>\n",
       "      <td>128.0</td>\n",
       "      <td>133.0</td>\n",
       "      <td>4095.0</td>\n",
       "      <td>1318.0</td>\n",
       "      <td>464.0</td>\n",
       "      <td>0.0</td>\n",
       "      <td>0.0</td>\n",
       "      <td>0.0</td>\n",
       "      <td>-0.614</td>\n",
       "      <td>...</td>\n",
       "      <td>-0.898</td>\n",
       "      <td>-0.607</td>\n",
       "      <td>-0.794</td>\n",
       "      <td>0.010</td>\n",
       "      <td>-0.300</td>\n",
       "      <td>-0.057</td>\n",
       "      <td>0.952</td>\n",
       "      <td>0.133</td>\n",
       "      <td>0.483</td>\n",
       "      <td>0.865</td>\n",
       "    </tr>\n",
       "    <tr>\n",
       "      <th>1929</th>\n",
       "      <td>1985.0</td>\n",
       "      <td>153.0</td>\n",
       "      <td>133.0</td>\n",
       "      <td>4095.0</td>\n",
       "      <td>1318.0</td>\n",
       "      <td>464.0</td>\n",
       "      <td>0.0</td>\n",
       "      <td>0.0</td>\n",
       "      <td>0.0</td>\n",
       "      <td>-0.574</td>\n",
       "      <td>...</td>\n",
       "      <td>-0.919</td>\n",
       "      <td>-0.605</td>\n",
       "      <td>-0.796</td>\n",
       "      <td>-0.015</td>\n",
       "      <td>-0.303</td>\n",
       "      <td>-0.106</td>\n",
       "      <td>0.947</td>\n",
       "      <td>0.091</td>\n",
       "      <td>0.401</td>\n",
       "      <td>0.912</td>\n",
       "    </tr>\n",
       "    <tr>\n",
       "      <th>1930</th>\n",
       "      <td>1985.0</td>\n",
       "      <td>153.0</td>\n",
       "      <td>89.0</td>\n",
       "      <td>4095.0</td>\n",
       "      <td>1328.0</td>\n",
       "      <td>546.0</td>\n",
       "      <td>0.0</td>\n",
       "      <td>0.0</td>\n",
       "      <td>0.0</td>\n",
       "      <td>-0.579</td>\n",
       "      <td>...</td>\n",
       "      <td>-0.953</td>\n",
       "      <td>-0.587</td>\n",
       "      <td>-0.807</td>\n",
       "      <td>-0.060</td>\n",
       "      <td>-0.286</td>\n",
       "      <td>-0.110</td>\n",
       "      <td>0.952</td>\n",
       "      <td>0.034</td>\n",
       "      <td>0.320</td>\n",
       "      <td>0.947</td>\n",
       "    </tr>\n",
       "  </tbody>\n",
       "</table>\n",
       "<p>1344 rows × 66 columns</p>\n",
       "</div>"
      ],
      "text/plain": [
       "          E1      E2      E3      E4      E5      E6  Thumb_Metacarpal_X  \\\n",
       "57    4017.0  4010.0  4021.0  4095.0  1291.0  3605.0                 0.0   \n",
       "58    4017.0  4011.0  4021.0  4095.0  1291.0  3605.0                 0.0   \n",
       "59    4017.0  4011.0  4018.0  4095.0  1291.0  3605.0                 0.0   \n",
       "60    4010.0  3999.0  4023.0  4095.0  1285.0  2807.0                 0.0   \n",
       "61    4010.0  4016.0  4023.0  4095.0  1285.0  2807.0                 0.0   \n",
       "...      ...     ...     ...     ...     ...     ...                 ...   \n",
       "1926  1415.0   134.0   145.0  4095.0  1319.0   369.0                 0.0   \n",
       "1927  1625.0   128.0   145.0  4095.0  1319.0   369.0                 0.0   \n",
       "1928  1625.0   128.0   133.0  4095.0  1318.0   464.0                 0.0   \n",
       "1929  1985.0   153.0   133.0  4095.0  1318.0   464.0                 0.0   \n",
       "1930  1985.0   153.0    89.0  4095.0  1328.0   546.0                 0.0   \n",
       "\n",
       "      Thumb_Metacarpal_Y  Thumb_Metacarpal_Z  Thumb_Proximal_X  ...  \\\n",
       "57                   0.0                 0.0            -0.975  ...   \n",
       "58                   0.0                 0.0            -0.943  ...   \n",
       "59                   0.0                 0.0            -0.870  ...   \n",
       "60                   0.0                 0.0            -0.888  ...   \n",
       "61                   0.0                 0.0            -0.973  ...   \n",
       "...                  ...                 ...               ...  ...   \n",
       "1926                 0.0                 0.0            -0.653  ...   \n",
       "1927                 0.0                 0.0            -0.643  ...   \n",
       "1928                 0.0                 0.0            -0.614  ...   \n",
       "1929                 0.0                 0.0            -0.574  ...   \n",
       "1930                 0.0                 0.0            -0.579  ...   \n",
       "\n",
       "      Pinky_Metacarpal_Z  Pinky_Proximal_X  Pinky_Proximal_Y  \\\n",
       "57                -0.400            -0.380             0.766   \n",
       "58                -0.346            -0.463             0.877   \n",
       "59                -0.303            -0.437             0.886   \n",
       "60                -0.227            -0.417             0.882   \n",
       "61                -0.221            -0.394             0.881   \n",
       "...                  ...               ...               ...   \n",
       "1926              -0.907            -0.541            -0.840   \n",
       "1927              -0.895            -0.567            -0.822   \n",
       "1928              -0.898            -0.607            -0.794   \n",
       "1929              -0.919            -0.605            -0.796   \n",
       "1930              -0.953            -0.587            -0.807   \n",
       "\n",
       "      Pinky_Proximal_Z  Pinky_Intermediate_X  Pinky_Intermediate_Y  \\\n",
       "57              -0.519                -0.559                 0.773   \n",
       "58              -0.126                -0.514                 0.855   \n",
       "59              -0.159                -0.469                 0.882   \n",
       "60              -0.219                -0.429                 0.890   \n",
       "61              -0.263                -0.394                 0.881   \n",
       "...                ...                   ...                   ...   \n",
       "1926             0.054                -0.268                 0.037   \n",
       "1927             0.054                -0.284                 0.040   \n",
       "1928             0.010                -0.300                -0.057   \n",
       "1929            -0.015                -0.303                -0.106   \n",
       "1930            -0.060                -0.286                -0.110   \n",
       "\n",
       "      Pinky_Intermediate_Z  Pinky_Distal_X  Pinky_Distal_Y  Pinky_Distal_Z  \n",
       "57                  -0.302          -0.720           0.693          -0.028  \n",
       "58                  -0.069          -0.709           0.691           0.141  \n",
       "59                  -0.049          -0.530           0.803           0.274  \n",
       "60                  -0.155          -0.460           0.827           0.322  \n",
       "61                  -0.263          -0.413           0.796           0.441  \n",
       "...                    ...             ...             ...             ...  \n",
       "1926                 0.963           0.236           0.703           0.671  \n",
       "1927                 0.958           0.239           0.691           0.683  \n",
       "1928                 0.952           0.133           0.483           0.865  \n",
       "1929                 0.947           0.091           0.401           0.912  \n",
       "1930                 0.952           0.034           0.320           0.947  \n",
       "\n",
       "[1344 rows x 66 columns]"
      ]
     },
     "execution_count": 6,
     "metadata": {},
     "output_type": "execute_result"
    }
   ],
   "source": [
    "df"
   ]
  },
  {
   "cell_type": "code",
   "execution_count": 7,
   "metadata": {},
   "outputs": [],
   "source": [
    "df.to_csv('./data/4_df.csv', index=True)"
   ]
  },
  {
   "cell_type": "code",
   "execution_count": 8,
   "metadata": {},
   "outputs": [],
   "source": [
    "split_ratio = 0.7 # number is train\n",
    "to = TabularPandas(df, procs=None, cat_names=None, cont_names=input_cols, y_names=output_cols, splits=split(df, split_ratio, df.shape[0]))\n",
    "dls = to.dataloaders(1024)"
   ]
  },
  {
   "cell_type": "code",
   "execution_count": 9,
   "metadata": {},
   "outputs": [
    {
     "data": {
      "text/plain": [
       "(0.0, 0.0)"
      ]
     },
     "execution_count": 9,
     "metadata": {},
     "output_type": "execute_result"
    }
   ],
   "source": [
    "y = to.train.y\n",
    "y.min(), y.max()"
   ]
  },
  {
   "cell_type": "code",
   "execution_count": 10,
   "metadata": {},
   "outputs": [],
   "source": [
    "learn = tabular_learner(dls, y_range=(-1, 1), n_out=60, loss_func=F.mse_loss)"
   ]
  },
  {
   "cell_type": "code",
   "execution_count": 11,
   "metadata": {},
   "outputs": [
    {
     "data": {
      "text/html": [],
      "text/plain": [
       "<IPython.core.display.HTML object>"
      ]
     },
     "metadata": {},
     "output_type": "display_data"
    },
    {
     "ename": "IndexError",
     "evalue": "index 0 is out of bounds for dimension 0 with size 0",
     "output_type": "error",
     "traceback": [
      "\u001b[1;31m---------------------------------------------------------------------------\u001b[0m",
      "\u001b[1;31mIndexError\u001b[0m                                Traceback (most recent call last)",
      "\u001b[1;32m~\\AppData\\Local\\Temp/ipykernel_19248/2434377672.py\u001b[0m in \u001b[0;36m<module>\u001b[1;34m\u001b[0m\n\u001b[1;32m----> 1\u001b[1;33m \u001b[0mlearn\u001b[0m\u001b[1;33m.\u001b[0m\u001b[0mlr_find\u001b[0m\u001b[1;33m(\u001b[0m\u001b[1;33m)\u001b[0m\u001b[1;33m\u001b[0m\u001b[1;33m\u001b[0m\u001b[0m\n\u001b[0m",
      "\u001b[1;32m~\\AppData\\Local\\Programs\\Python\\Python37\\lib\\site-packages\\fastai\\callback\\schedule.py\u001b[0m in \u001b[0;36mlr_find\u001b[1;34m(self, start_lr, end_lr, num_it, stop_div, show_plot, suggest_funcs)\u001b[0m\n\u001b[0;32m    294\u001b[0m         \u001b[1;32mfor\u001b[0m \u001b[0mfunc\u001b[0m \u001b[1;32min\u001b[0m \u001b[0mtuplify\u001b[0m\u001b[1;33m(\u001b[0m\u001b[0msuggest_funcs\u001b[0m\u001b[1;33m)\u001b[0m\u001b[1;33m:\u001b[0m\u001b[1;33m\u001b[0m\u001b[1;33m\u001b[0m\u001b[0m\n\u001b[0;32m    295\u001b[0m             \u001b[0mnms\u001b[0m\u001b[1;33m.\u001b[0m\u001b[0mappend\u001b[0m\u001b[1;33m(\u001b[0m\u001b[0mfunc\u001b[0m\u001b[1;33m.\u001b[0m\u001b[0m__name__\u001b[0m \u001b[1;32mif\u001b[0m \u001b[1;32mnot\u001b[0m \u001b[0misinstance\u001b[0m\u001b[1;33m(\u001b[0m\u001b[0mfunc\u001b[0m\u001b[1;33m,\u001b[0m \u001b[0mpartial\u001b[0m\u001b[1;33m)\u001b[0m \u001b[1;32melse\u001b[0m \u001b[0mfunc\u001b[0m\u001b[1;33m.\u001b[0m\u001b[0mfunc\u001b[0m\u001b[1;33m.\u001b[0m\u001b[0m__name__\u001b[0m\u001b[1;33m)\u001b[0m \u001b[1;31m# deal with partials\u001b[0m\u001b[1;33m\u001b[0m\u001b[1;33m\u001b[0m\u001b[0m\n\u001b[1;32m--> 296\u001b[1;33m             \u001b[0m_suggestions\u001b[0m\u001b[1;33m.\u001b[0m\u001b[0mappend\u001b[0m\u001b[1;33m(\u001b[0m\u001b[0mfunc\u001b[0m\u001b[1;33m(\u001b[0m\u001b[0mlrs\u001b[0m\u001b[1;33m,\u001b[0m \u001b[0mlosses\u001b[0m\u001b[1;33m,\u001b[0m \u001b[0mnum_it\u001b[0m\u001b[1;33m)\u001b[0m\u001b[1;33m)\u001b[0m\u001b[1;33m\u001b[0m\u001b[1;33m\u001b[0m\u001b[0m\n\u001b[0m\u001b[0;32m    297\u001b[0m \u001b[1;33m\u001b[0m\u001b[0m\n\u001b[0;32m    298\u001b[0m         \u001b[0mSuggestedLRs\u001b[0m \u001b[1;33m=\u001b[0m \u001b[0mcollections\u001b[0m\u001b[1;33m.\u001b[0m\u001b[0mnamedtuple\u001b[0m\u001b[1;33m(\u001b[0m\u001b[1;34m'SuggestedLRs'\u001b[0m\u001b[1;33m,\u001b[0m \u001b[0mnms\u001b[0m\u001b[1;33m)\u001b[0m\u001b[1;33m\u001b[0m\u001b[1;33m\u001b[0m\u001b[0m\n",
      "\u001b[1;32m~\\AppData\\Local\\Programs\\Python\\Python37\\lib\\site-packages\\fastai\\callback\\schedule.py\u001b[0m in \u001b[0;36mvalley\u001b[1;34m(lrs, losses, num_it)\u001b[0m\n\u001b[0;32m    221\u001b[0m     \u001b[0midx\u001b[0m \u001b[1;33m=\u001b[0m \u001b[0mmax_start\u001b[0m \u001b[1;33m+\u001b[0m \u001b[0mint\u001b[0m\u001b[1;33m(\u001b[0m\u001b[0msections\u001b[0m\u001b[1;33m)\u001b[0m \u001b[1;33m+\u001b[0m \u001b[0mint\u001b[0m\u001b[1;33m(\u001b[0m\u001b[0msections\u001b[0m\u001b[1;33m/\u001b[0m\u001b[1;36m2\u001b[0m\u001b[1;33m)\u001b[0m\u001b[1;33m\u001b[0m\u001b[1;33m\u001b[0m\u001b[0m\n\u001b[0;32m    222\u001b[0m \u001b[1;33m\u001b[0m\u001b[0m\n\u001b[1;32m--> 223\u001b[1;33m     \u001b[1;32mreturn\u001b[0m \u001b[0mfloat\u001b[0m\u001b[1;33m(\u001b[0m\u001b[0mlrs\u001b[0m\u001b[1;33m[\u001b[0m\u001b[0midx\u001b[0m\u001b[1;33m]\u001b[0m\u001b[1;33m)\u001b[0m\u001b[1;33m,\u001b[0m \u001b[1;33m(\u001b[0m\u001b[0mfloat\u001b[0m\u001b[1;33m(\u001b[0m\u001b[0mlrs\u001b[0m\u001b[1;33m[\u001b[0m\u001b[0midx\u001b[0m\u001b[1;33m]\u001b[0m\u001b[1;33m)\u001b[0m\u001b[1;33m,\u001b[0m \u001b[0mlosses\u001b[0m\u001b[1;33m[\u001b[0m\u001b[0midx\u001b[0m\u001b[1;33m]\u001b[0m\u001b[1;33m)\u001b[0m\u001b[1;33m\u001b[0m\u001b[1;33m\u001b[0m\u001b[0m\n\u001b[0m\u001b[0;32m    224\u001b[0m \u001b[1;33m\u001b[0m\u001b[0m\n\u001b[0;32m    225\u001b[0m \u001b[1;31m# Cell\u001b[0m\u001b[1;33m\u001b[0m\u001b[1;33m\u001b[0m\u001b[1;33m\u001b[0m\u001b[0m\n",
      "\u001b[1;31mIndexError\u001b[0m: index 0 is out of bounds for dimension 0 with size 0"
     ]
    }
   ],
   "source": [
    "learn.lr_find()"
   ]
  },
  {
   "cell_type": "markdown",
   "metadata": {},
   "source": [
    "Data-dependent 하다는 점이 흥미로움. **새로 레코딩 한 후 재시도 하자.** 그러려면 물리적 셋업 향상이 필요함 (power header strength, cable management strategy, pin placement, pin locks...)."
   ]
  },
  {
   "cell_type": "code",
   "execution_count": null,
   "metadata": {},
   "outputs": [
    {
     "data": {
      "text/html": [
       "<table border=\"1\" class=\"dataframe\">\n",
       "  <thead>\n",
       "    <tr style=\"text-align: left;\">\n",
       "      <th>epoch</th>\n",
       "      <th>train_loss</th>\n",
       "      <th>valid_loss</th>\n",
       "      <th>time</th>\n",
       "    </tr>\n",
       "  </thead>\n",
       "  <tbody>\n",
       "    <tr>\n",
       "      <td>0</td>\n",
       "      <td>nan</td>\n",
       "      <td>nan</td>\n",
       "      <td>00:00</td>\n",
       "    </tr>\n",
       "    <tr>\n",
       "      <td>1</td>\n",
       "      <td>nan</td>\n",
       "      <td>nan</td>\n",
       "      <td>00:00</td>\n",
       "    </tr>\n",
       "    <tr>\n",
       "      <td>2</td>\n",
       "      <td>nan</td>\n",
       "      <td>nan</td>\n",
       "      <td>00:00</td>\n",
       "    </tr>\n",
       "    <tr>\n",
       "      <td>3</td>\n",
       "      <td>nan</td>\n",
       "      <td>nan</td>\n",
       "      <td>00:00</td>\n",
       "    </tr>\n",
       "  </tbody>\n",
       "</table>"
      ],
      "text/plain": [
       "<IPython.core.display.HTML object>"
      ]
     },
     "metadata": {},
     "output_type": "display_data"
    }
   ],
   "source": [
    "learn.fit_one_cycle(n_epoch=4, lr_max=1e-3)"
   ]
  },
  {
   "cell_type": "code",
   "execution_count": null,
   "metadata": {},
   "outputs": [
    {
     "data": {
      "text/html": [],
      "text/plain": [
       "<IPython.core.display.HTML object>"
      ]
     },
     "metadata": {},
     "output_type": "display_data"
    }
   ],
   "source": [
    "preds,targs = learn.get_preds()"
   ]
  },
  {
   "cell_type": "code",
   "execution_count": null,
   "metadata": {},
   "outputs": [
    {
     "data": {
      "text/plain": [
       "nan"
      ]
     },
     "execution_count": 13,
     "metadata": {},
     "output_type": "execute_result"
    }
   ],
   "source": [
    "r_mse(preds,targs)"
   ]
  },
  {
   "cell_type": "markdown",
   "metadata": {},
   "source": [
    "# Export"
   ]
  },
  {
   "cell_type": "code",
   "execution_count": null,
   "metadata": {},
   "outputs": [],
   "source": [
    "learn.export()"
   ]
  },
  {
   "cell_type": "markdown",
   "metadata": {},
   "source": [
    "# Inference"
   ]
  },
  {
   "cell_type": "code",
   "execution_count": null,
   "metadata": {},
   "outputs": [],
   "source": []
  },
  {
   "cell_type": "code",
   "execution_count": null,
   "metadata": {},
   "outputs": [
    {
     "data": {
      "text/html": [],
      "text/plain": [
       "<IPython.core.display.HTML object>"
      ]
     },
     "metadata": {},
     "output_type": "display_data"
    }
   ],
   "source": [
    "pdf = pd.DataFrame([[0, 0, 356.0, 459.0, 536.0, 431.0]], columns=input_cols)\n",
    "row, clas, probs = learn.predict(pdf.iloc[0]) # df 넣어야 하네. input만 들어있어도 될까, 다 들어있어야 할까?"
   ]
  },
  {
   "cell_type": "code",
   "execution_count": null,
   "metadata": {},
   "outputs": [
    {
     "data": {
      "text/html": [
       "<table border=\"1\" class=\"dataframe\">\n",
       "  <thead>\n",
       "    <tr style=\"text-align: right;\">\n",
       "      <th></th>\n",
       "      <th>E1</th>\n",
       "      <th>E2</th>\n",
       "      <th>E3</th>\n",
       "      <th>E4</th>\n",
       "      <th>E5</th>\n",
       "      <th>E6</th>\n",
       "      <th>Thumb_Metacarpal_X</th>\n",
       "      <th>Thumb_Metacarpal_Y</th>\n",
       "      <th>Thumb_Metacarpal_Z</th>\n",
       "      <th>Thumb_Proximal_X</th>\n",
       "      <th>Thumb_Proximal_Y</th>\n",
       "      <th>Thumb_Proximal_Z</th>\n",
       "      <th>Thumb_Intermediate_X</th>\n",
       "      <th>Thumb_Intermediate_Y</th>\n",
       "      <th>Thumb_Intermediate_Z</th>\n",
       "      <th>Thumb_Distal_X</th>\n",
       "      <th>Thumb_Distal_Y</th>\n",
       "      <th>Thumb_Distal_Z</th>\n",
       "      <th>Index_Metacarpal_X</th>\n",
       "      <th>Index_Metacarpal_Y</th>\n",
       "      <th>Index_Metacarpal_Z</th>\n",
       "      <th>Index_Proximal_X</th>\n",
       "      <th>Index_Proximal_Y</th>\n",
       "      <th>Index_Proximal_Z</th>\n",
       "      <th>Index_Intermediate_X</th>\n",
       "      <th>Index_Intermediate_Y</th>\n",
       "      <th>Index_Intermediate_Z</th>\n",
       "      <th>Index_Distal_X</th>\n",
       "      <th>Index_Distal_Y</th>\n",
       "      <th>Index_Distal_Z</th>\n",
       "      <th>Middle_Metacarpal_X</th>\n",
       "      <th>Middle_Metacarpal_Y</th>\n",
       "      <th>Middle_Metacarpal_Z</th>\n",
       "      <th>Middle_Proximal_X</th>\n",
       "      <th>Middle_Proximal_Y</th>\n",
       "      <th>Middle_Proximal_Z</th>\n",
       "      <th>Middle_Intermediate_X</th>\n",
       "      <th>Middle_Intermediate_Y</th>\n",
       "      <th>Middle_Intermediate_Z</th>\n",
       "      <th>Middle_Distal_X</th>\n",
       "      <th>Middle_Distal_Y</th>\n",
       "      <th>Middle_Distal_Z</th>\n",
       "      <th>Ring_Metacarpal_X</th>\n",
       "      <th>Ring_Metacarpal_Y</th>\n",
       "      <th>Ring_Metacarpal_Z</th>\n",
       "      <th>Ring_Proximal_X</th>\n",
       "      <th>Ring_Proximal_Y</th>\n",
       "      <th>Ring_Proximal_Z</th>\n",
       "      <th>Ring_Intermediate_X</th>\n",
       "      <th>Ring_Intermediate_Y</th>\n",
       "      <th>Ring_Intermediate_Z</th>\n",
       "      <th>Ring_Distal_X</th>\n",
       "      <th>Ring_Distal_Y</th>\n",
       "      <th>Ring_Distal_Z</th>\n",
       "      <th>Pinky_Metacarpal_X</th>\n",
       "      <th>Pinky_Metacarpal_Y</th>\n",
       "      <th>Pinky_Metacarpal_Z</th>\n",
       "      <th>Pinky_Proximal_X</th>\n",
       "      <th>Pinky_Proximal_Y</th>\n",
       "      <th>Pinky_Proximal_Z</th>\n",
       "      <th>Pinky_Intermediate_X</th>\n",
       "      <th>Pinky_Intermediate_Y</th>\n",
       "      <th>Pinky_Intermediate_Z</th>\n",
       "      <th>Pinky_Distal_X</th>\n",
       "      <th>Pinky_Distal_Y</th>\n",
       "      <th>Pinky_Distal_Z</th>\n",
       "    </tr>\n",
       "  </thead>\n",
       "  <tbody>\n",
       "    <tr>\n",
       "      <th>0</th>\n",
       "      <td>0.0</td>\n",
       "      <td>0.0</td>\n",
       "      <td>356.0</td>\n",
       "      <td>459.0</td>\n",
       "      <td>536.0</td>\n",
       "      <td>431.0</td>\n",
       "      <td>-0.019624</td>\n",
       "      <td>0.046589</td>\n",
       "      <td>0.007087</td>\n",
       "      <td>-0.637944</td>\n",
       "      <td>-0.135294</td>\n",
       "      <td>-0.499706</td>\n",
       "      <td>-0.471541</td>\n",
       "      <td>-0.076614</td>\n",
       "      <td>-0.474602</td>\n",
       "      <td>-0.21022</td>\n",
       "      <td>-0.171936</td>\n",
       "      <td>-0.568003</td>\n",
       "      <td>-0.541616</td>\n",
       "      <td>-0.013603</td>\n",
       "      <td>-0.659496</td>\n",
       "      <td>-0.605111</td>\n",
       "      <td>-0.0301</td>\n",
       "      <td>-0.522801</td>\n",
       "      <td>-0.343053</td>\n",
       "      <td>-0.159329</td>\n",
       "      <td>-0.30895</td>\n",
       "      <td>-0.322805</td>\n",
       "      <td>-0.183064</td>\n",
       "      <td>-0.271874</td>\n",
       "      <td>-0.542232</td>\n",
       "      <td>-0.037376</td>\n",
       "      <td>-0.597613</td>\n",
       "      <td>-0.493738</td>\n",
       "      <td>-0.062415</td>\n",
       "      <td>-0.531826</td>\n",
       "      <td>-0.227524</td>\n",
       "      <td>-0.194686</td>\n",
       "      <td>-0.331036</td>\n",
       "      <td>-0.14082</td>\n",
       "      <td>-0.140866</td>\n",
       "      <td>-0.160235</td>\n",
       "      <td>-0.48322</td>\n",
       "      <td>-0.057223</td>\n",
       "      <td>-0.692165</td>\n",
       "      <td>-0.375441</td>\n",
       "      <td>-0.350675</td>\n",
       "      <td>-0.486943</td>\n",
       "      <td>-0.101063</td>\n",
       "      <td>-0.40149</td>\n",
       "      <td>-0.022663</td>\n",
       "      <td>-0.00916</td>\n",
       "      <td>-0.172505</td>\n",
       "      <td>0.067858</td>\n",
       "      <td>-0.198239</td>\n",
       "      <td>-0.088546</td>\n",
       "      <td>-0.678385</td>\n",
       "      <td>-0.278277</td>\n",
       "      <td>-0.144975</td>\n",
       "      <td>-0.637533</td>\n",
       "      <td>-0.135779</td>\n",
       "      <td>-0.474508</td>\n",
       "      <td>-0.145631</td>\n",
       "      <td>-0.18714</td>\n",
       "      <td>-0.416654</td>\n",
       "      <td>0.002162</td>\n",
       "    </tr>\n",
       "  </tbody>\n",
       "</table>"
      ],
      "text/plain": [
       "<IPython.core.display.HTML object>"
      ]
     },
     "metadata": {},
     "output_type": "display_data"
    }
   ],
   "source": [
    "row.show()"
   ]
  },
  {
   "cell_type": "code",
   "execution_count": null,
   "metadata": {},
   "outputs": [
    {
     "data": {
      "text/plain": [
       "tensor([-0.0196,  0.0466,  0.0071, -0.6379, -0.1353, -0.4997, -0.4715, -0.0766,\n",
       "        -0.4746, -0.2102, -0.1719, -0.5680, -0.5416, -0.0136, -0.6595, -0.6051,\n",
       "        -0.0301, -0.5228, -0.3431, -0.1593, -0.3089, -0.3228, -0.1831, -0.2719,\n",
       "        -0.5422, -0.0374, -0.5976, -0.4937, -0.0624, -0.5318, -0.2275, -0.1947,\n",
       "        -0.3310, -0.1408, -0.1409, -0.1602, -0.4832, -0.0572, -0.6922, -0.3754,\n",
       "        -0.3507, -0.4869, -0.1011, -0.4015, -0.0227, -0.0092, -0.1725,  0.0679,\n",
       "        -0.1982, -0.0885, -0.6784, -0.2783, -0.1450, -0.6375, -0.1358, -0.4745,\n",
       "        -0.1456, -0.1871, -0.4167,  0.0022])"
      ]
     },
     "execution_count": 17,
     "metadata": {},
     "output_type": "execute_result"
    }
   ],
   "source": [
    "# clas meaningless since everything's continuous\n",
    "probs"
   ]
  },
  {
   "cell_type": "code",
   "execution_count": null,
   "metadata": {},
   "outputs": [
    {
     "data": {
      "text/html": [],
      "text/plain": [
       "<IPython.core.display.HTML object>"
      ]
     },
     "metadata": {},
     "output_type": "display_data"
    },
    {
     "data": {
      "text/plain": [
       "0.399619"
      ]
     },
     "execution_count": 18,
     "metadata": {},
     "output_type": "execute_result"
    }
   ],
   "source": [
    "a, b = learn.get_preds()\n",
    "r_mse(a,b)\n"
   ]
  }
 ],
 "metadata": {
  "interpreter": {
   "hash": "ec021d9852999aa3eb5631396f21c046ecdf771db2d558054a012c98ac76b0a6"
  },
  "kernelspec": {
   "display_name": "Python 3.7.9 64-bit",
   "language": "python",
   "name": "python3"
  },
  "language_info": {
   "codemirror_mode": {
    "name": "ipython",
    "version": 3
   },
   "file_extension": ".py",
   "mimetype": "text/x-python",
   "name": "python",
   "nbconvert_exporter": "python",
   "pygments_lexer": "ipython3",
   "version": "3.7.9"
  },
  "orig_nbformat": 4
 },
 "nbformat": 4,
 "nbformat_minor": 2
}
