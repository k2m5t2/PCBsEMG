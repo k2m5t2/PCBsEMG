{
  "cells": [
    {
      "cell_type": "markdown",
      "metadata": {
        "id": "3ls9WF8p3O95"
      },
      "source": [
        "# **Setup**"
      ]
    },
    {
      "cell_type": "code",
      "execution_count": 66,
      "metadata": {
        "colab": {
          "base_uri": "https://localhost:8080/"
        },
        "id": "j3BqxxEWOtLr",
        "outputId": "96a15a2a-3b3d-4995-af30-c81a5c41a081"
      },
      "outputs": [
        {
          "name": "stdout",
          "output_type": "stream",
          "text": [
            "Requirement already satisfied: ahrs in c:\\users\\hocbu\\appdata\\local\\programs\\python\\python37\\lib\\site-packages (0.3.1)\n",
            "Requirement already satisfied: numpy in c:\\users\\hocbu\\appdata\\local\\programs\\python\\python37\\lib\\site-packages (from ahrs) (1.18.1)\n",
            "Requirement already satisfied: fastai in c:\\users\\hocbu\\appdata\\local\\programs\\python\\python37\\lib\\site-packages (2.5.3)\n",
            "Requirement already satisfied: pandas in c:\\users\\hocbu\\appdata\\local\\programs\\python\\python37\\lib\\site-packages (from fastai) (1.3.4)\n",
            "Requirement already satisfied: packaging in c:\\users\\hocbu\\appdata\\local\\programs\\python\\python37\\lib\\site-packages (from fastai) (21.3)\n",
            "Requirement already satisfied: pip in c:\\users\\hocbu\\appdata\\local\\programs\\python\\python37\\lib\\site-packages (from fastai) (21.3.1)\n",
            "Requirement already satisfied: scipy in c:\\users\\hocbu\\appdata\\local\\programs\\python\\python37\\lib\\site-packages (from fastai) (1.7.3)\n",
            "Requirement already satisfied: pyyaml in c:\\users\\hocbu\\appdata\\local\\programs\\python\\python37\\lib\\site-packages (from fastai) (6.0)\n",
            "Requirement already satisfied: requests in c:\\users\\hocbu\\appdata\\local\\programs\\python\\python37\\lib\\site-packages (from fastai) (2.26.0)\n",
            "Requirement already satisfied: fastprogress>=0.2.4 in c:\\users\\hocbu\\appdata\\local\\programs\\python\\python37\\lib\\site-packages (from fastai) (1.0.0)\n",
            "Requirement already satisfied: scikit-learn in c:\\users\\hocbu\\appdata\\local\\programs\\python\\python37\\lib\\site-packages (from fastai) (1.0.1)\n",
            "Requirement already satisfied: fastcore<1.4,>=1.3.22 in c:\\users\\hocbu\\appdata\\local\\programs\\python\\python37\\lib\\site-packages (from fastai) (1.3.27)\n",
            "Requirement already satisfied: matplotlib in c:\\users\\hocbu\\appdata\\local\\programs\\python\\python37\\lib\\site-packages (from fastai) (3.5.0)\n",
            "Requirement already satisfied: torch<1.11,>=1.7.0 in c:\\users\\hocbu\\appdata\\local\\programs\\python\\python37\\lib\\site-packages (from fastai) (1.10.0+cu113)\n",
            "Requirement already satisfied: pillow>6.0.0 in c:\\users\\hocbu\\appdata\\local\\programs\\python\\python37\\lib\\site-packages (from fastai) (8.4.0)\n",
            "Requirement already satisfied: torchvision>=0.8.2 in c:\\users\\hocbu\\appdata\\local\\programs\\python\\python37\\lib\\site-packages (from fastai) (0.11.1+cu113)\n",
            "Requirement already satisfied: fastdownload<2,>=0.0.5 in c:\\users\\hocbu\\appdata\\local\\programs\\python\\python37\\lib\\site-packages (from fastai) (0.0.5)\n",
            "Requirement already satisfied: spacy<4 in c:\\users\\hocbu\\appdata\\local\\programs\\python\\python37\\lib\\site-packages (from fastai) (3.2.0)\n",
            "Requirement already satisfied: numpy in c:\\users\\hocbu\\appdata\\local\\programs\\python\\python37\\lib\\site-packages (from fastprogress>=0.2.4->fastai) (1.18.1)\n",
            "Requirement already satisfied: tqdm<5.0.0,>=4.38.0 in c:\\users\\hocbu\\appdata\\local\\programs\\python\\python37\\lib\\site-packages (from spacy<4->fastai) (4.62.3)\n",
            "Requirement already satisfied: typing-extensions<4.0.0.0,>=3.7.4 in c:\\users\\hocbu\\appdata\\local\\programs\\python\\python37\\lib\\site-packages (from spacy<4->fastai) (3.10.0.2)\n",
            "Requirement already satisfied: srsly<3.0.0,>=2.4.1 in c:\\users\\hocbu\\appdata\\local\\programs\\python\\python37\\lib\\site-packages (from spacy<4->fastai) (2.4.2)\n",
            "Requirement already satisfied: wasabi<1.1.0,>=0.8.1 in c:\\users\\hocbu\\appdata\\local\\programs\\python\\python37\\lib\\site-packages (from spacy<4->fastai) (0.8.2)\n",
            "Requirement already satisfied: cymem<2.1.0,>=2.0.2 in c:\\users\\hocbu\\appdata\\local\\programs\\python\\python37\\lib\\site-packages (from spacy<4->fastai) (2.0.6)\n",
            "Requirement already satisfied: langcodes<4.0.0,>=3.2.0 in c:\\users\\hocbu\\appdata\\local\\programs\\python\\python37\\lib\\site-packages (from spacy<4->fastai) (3.3.0)\n",
            "Requirement already satisfied: typer<0.5.0,>=0.3.0 in c:\\users\\hocbu\\appdata\\local\\programs\\python\\python37\\lib\\site-packages (from spacy<4->fastai) (0.4.0)\n",
            "Requirement already satisfied: thinc<8.1.0,>=8.0.12 in c:\\users\\hocbu\\appdata\\local\\programs\\python\\python37\\lib\\site-packages (from spacy<4->fastai) (8.0.13)\n",
            "Requirement already satisfied: blis<0.8.0,>=0.4.0 in c:\\users\\hocbu\\appdata\\local\\programs\\python\\python37\\lib\\site-packages (from spacy<4->fastai) (0.7.5)\n",
            "Requirement already satisfied: preshed<3.1.0,>=3.0.2 in c:\\users\\hocbu\\appdata\\local\\programs\\python\\python37\\lib\\site-packages (from spacy<4->fastai) (3.0.6)\n",
            "Requirement already satisfied: jinja2 in c:\\users\\hocbu\\appdata\\local\\programs\\python\\python37\\lib\\site-packages (from spacy<4->fastai) (3.0.3)\n",
            "Requirement already satisfied: catalogue<2.1.0,>=2.0.6 in c:\\users\\hocbu\\appdata\\local\\programs\\python\\python37\\lib\\site-packages (from spacy<4->fastai) (2.0.6)\n",
            "Requirement already satisfied: murmurhash<1.1.0,>=0.28.0 in c:\\users\\hocbu\\appdata\\local\\programs\\python\\python37\\lib\\site-packages (from spacy<4->fastai) (1.0.6)\n",
            "Requirement already satisfied: spacy-legacy<3.1.0,>=3.0.8 in c:\\users\\hocbu\\appdata\\local\\programs\\python\\python37\\lib\\site-packages (from spacy<4->fastai) (3.0.8)\n",
            "Requirement already satisfied: pathy>=0.3.5 in c:\\users\\hocbu\\appdata\\local\\programs\\python\\python37\\lib\\site-packages (from spacy<4->fastai) (0.6.1)\n",
            "Requirement already satisfied: pydantic!=1.8,!=1.8.1,<1.9.0,>=1.7.4 in c:\\users\\hocbu\\appdata\\local\\programs\\python\\python37\\lib\\site-packages (from spacy<4->fastai) (1.8.2)\n",
            "Requirement already satisfied: spacy-loggers<2.0.0,>=1.0.0 in c:\\users\\hocbu\\appdata\\local\\programs\\python\\python37\\lib\\site-packages (from spacy<4->fastai) (1.0.1)\n",
            "Requirement already satisfied: setuptools in c:\\users\\hocbu\\appdata\\local\\programs\\python\\python37\\lib\\site-packages (from spacy<4->fastai) (47.1.0)\n",
            "Requirement already satisfied: pyparsing!=3.0.5,>=2.0.2 in c:\\users\\hocbu\\appdata\\local\\programs\\python\\python37\\lib\\site-packages (from packaging->fastai) (3.0.6)\n",
            "Requirement already satisfied: urllib3<1.27,>=1.21.1 in c:\\users\\hocbu\\appdata\\local\\programs\\python\\python37\\lib\\site-packages (from requests->fastai) (1.26.7)\n",
            "Requirement already satisfied: charset-normalizer~=2.0.0 in c:\\users\\hocbu\\appdata\\local\\programs\\python\\python37\\lib\\site-packages (from requests->fastai) (2.0.9)\n",
            "Requirement already satisfied: idna<4,>=2.5 in c:\\users\\hocbu\\appdata\\local\\programs\\python\\python37\\lib\\site-packages (from requests->fastai) (3.3)\n",
            "Requirement already satisfied: certifi>=2017.4.17 in c:\\users\\hocbu\\appdata\\local\\programs\\python\\python37\\lib\\site-packages (from requests->fastai) (2021.10.8)\n",
            "Requirement already satisfied: kiwisolver>=1.0.1 in c:\\users\\hocbu\\appdata\\local\\programs\\python\\python37\\lib\\site-packages (from matplotlib->fastai) (1.3.2)\n",
            "Requirement already satisfied: python-dateutil>=2.7 in c:\\users\\hocbu\\appdata\\local\\programs\\python\\python37\\lib\\site-packages (from matplotlib->fastai) (2.8.2)\n",
            "Requirement already satisfied: setuptools-scm>=4 in c:\\users\\hocbu\\appdata\\local\\programs\\python\\python37\\lib\\site-packages (from matplotlib->fastai) (6.3.2)\n",
            "Requirement already satisfied: fonttools>=4.22.0 in c:\\users\\hocbu\\appdata\\local\\programs\\python\\python37\\lib\\site-packages (from matplotlib->fastai) (4.28.3)\n",
            "Requirement already satisfied: cycler>=0.10 in c:\\users\\hocbu\\appdata\\local\\programs\\python\\python37\\lib\\site-packages (from matplotlib->fastai) (0.11.0)\n",
            "Requirement already satisfied: pytz>=2017.3 in c:\\users\\hocbu\\appdata\\local\\programs\\python\\python37\\lib\\site-packages (from pandas->fastai) (2021.3)\n",
            "Requirement already satisfied: joblib>=0.11 in c:\\users\\hocbu\\appdata\\local\\programs\\python\\python37\\lib\\site-packages (from scikit-learn->fastai) (1.1.0)\n",
            "Requirement already satisfied: threadpoolctl>=2.0.0 in c:\\users\\hocbu\\appdata\\local\\programs\\python\\python37\\lib\\site-packages (from scikit-learn->fastai) (3.0.0)\n",
            "Requirement already satisfied: zipp>=0.5 in c:\\users\\hocbu\\appdata\\local\\programs\\python\\python37\\lib\\site-packages (from catalogue<2.1.0,>=2.0.6->spacy<4->fastai) (3.6.0)\n",
            "Requirement already satisfied: smart-open<6.0.0,>=5.0.0 in c:\\users\\hocbu\\appdata\\local\\programs\\python\\python37\\lib\\site-packages (from pathy>=0.3.5->spacy<4->fastai) (5.2.1)\n",
            "Requirement already satisfied: six>=1.5 in c:\\users\\hocbu\\appdata\\local\\programs\\python\\python37\\lib\\site-packages (from python-dateutil>=2.7->matplotlib->fastai) (1.16.0)\n",
            "Requirement already satisfied: tomli>=1.0.0 in c:\\users\\hocbu\\appdata\\local\\programs\\python\\python37\\lib\\site-packages (from setuptools-scm>=4->matplotlib->fastai) (1.2.2)\n",
            "Requirement already satisfied: colorama in c:\\users\\hocbu\\appdata\\local\\programs\\python\\python37\\lib\\site-packages (from tqdm<5.0.0,>=4.38.0->spacy<4->fastai) (0.4.4)\n",
            "Requirement already satisfied: click<9.0.0,>=7.1.1 in c:\\users\\hocbu\\appdata\\local\\programs\\python\\python37\\lib\\site-packages (from typer<0.5.0,>=0.3.0->spacy<4->fastai) (8.0.3)\n",
            "Requirement already satisfied: MarkupSafe>=2.0 in c:\\users\\hocbu\\appdata\\local\\programs\\python\\python37\\lib\\site-packages (from jinja2->spacy<4->fastai) (2.0.1)\n",
            "Requirement already satisfied: importlib-metadata in c:\\users\\hocbu\\appdata\\local\\programs\\python\\python37\\lib\\site-packages (from click<9.0.0,>=7.1.1->typer<0.5.0,>=0.3.0->spacy<4->fastai) (4.8.2)\n"
          ]
        }
      ],
      "source": [
        "!pip install ahrs\n",
        "!pip install fastai --upgrade"
      ]
    },
    {
      "cell_type": "markdown",
      "metadata": {
        "id": "ulKJuVpa4mwC"
      },
      "source": [
        "\n",
        "```\n",
        "from google.colab import drive\n",
        "drive.mount('/content/drive')\n",
        "```\n",
        "\n",
        "It's more convenient to use the UI for mounting Google Drive."
      ]
    },
    {
      "cell_type": "code",
      "execution_count": 67,
      "metadata": {
        "id": "XctLaurd4DAa"
      },
      "outputs": [],
      "source": [
        "import numpy as np\n",
        "import pandas as pd"
      ]
    },
    {
      "cell_type": "code",
      "execution_count": 68,
      "metadata": {
        "id": "WSFr9QeWGW6m"
      },
      "outputs": [],
      "source": [
        "from fastai.tabular.all import *"
      ]
    },
    {
      "cell_type": "code",
      "execution_count": 69,
      "metadata": {
        "id": "wukZCr-KGVFV"
      },
      "outputs": [],
      "source": [
        "import ahrs.common.orientation\n",
        "from ahrs.common.orientation import *"
      ]
    },
    {
      "cell_type": "code",
      "execution_count": 70,
      "metadata": {
        "id": "ki-bJ35g5x6Q"
      },
      "outputs": [],
      "source": [
        "from scipy.spatial.transform import Rotation as R"
      ]
    },
    {
      "cell_type": "code",
      "execution_count": 71,
      "metadata": {
        "id": "STHEFWZo2503"
      },
      "outputs": [],
      "source": [
        "def r_mse(pred,y): return round(math.sqrt(((pred-y)**2).mean()), 6)"
      ]
    },
    {
      "cell_type": "markdown",
      "metadata": {
        "id": "4DeJO1fV-jSY"
      },
      "source": [
        "# **FillNet Research Notebook #1**"
      ]
    },
    {
      "cell_type": "markdown",
      "metadata": {
        "id": "mFUSAu6TmofC"
      },
      "source": [
        "### **Scope**\n",
        "1.   Data Hunting ✅\n",
        "2.   Data Engineering ✅\n",
        "3.   Exploring the API ✅\n",
        "\n",
        "### **Coming Up**\n",
        "- Prototyping with fastai defaults (parameters, loss, activation).\n",
        "- Determine loss & output data type (axis-angle, rotation matrix, quaternion)"
      ]
    },
    {
      "cell_type": "markdown",
      "metadata": {
        "id": "XId3t5Na-wfe"
      },
      "source": [
        "## **1. Data Hunting**"
      ]
    },
    {
      "cell_type": "markdown",
      "metadata": {
        "id": "6qHbv5GqpaWo"
      },
      "source": [
        "First reading of [research paper](https://calciferzh.github.io/files/zhou2020monocular.pdf). \n",
        "\n",
        "Learned that: datasets used to train minimal-hand are of [3D-annotated, 2D-annotated, Motion Capture]; that loss functions and training process are defined at a **fairly** complex level of understanding; that for headfirst prototyping purposes, MoCap data is solely sufficient. "
      ]
    },
    {
      "cell_type": "code",
      "execution_count": 72,
      "metadata": {
        "colab": {
          "base_uri": "https://localhost:8080/"
        },
        "id": "bLB0Ruj7mawN",
        "outputId": "2987f6be-d470-45a7-b9cc-2aa02320559b"
      },
      "outputs": [],
      "source": [
        "# from google.colab import drive\n",
        "# drive.mount('/content/drive')"
      ]
    },
    {
      "cell_type": "code",
      "execution_count": 73,
      "metadata": {
        "id": "E19rmmlAnghK"
      },
      "outputs": [],
      "source": [
        "import numpy as np\n",
        "poses = np.load('./handsOnly_REGISTRATIONS_r_lm___POSES___R.npy')"
      ]
    },
    {
      "cell_type": "markdown",
      "metadata": {
        "id": "FcbcE87w-2AF"
      },
      "source": [
        "## **2. Data Engineering**"
      ]
    },
    {
      "cell_type": "code",
      "execution_count": 74,
      "metadata": {
        "colab": {
          "base_uri": "https://localhost:8080/"
        },
        "id": "8owy_2KipSHZ",
        "outputId": "bcd67a6c-8423-4ef0-88a1-09be1f148492"
      },
      "outputs": [
        {
          "data": {
            "text/plain": [
              "(1554, 45)"
            ]
          },
          "execution_count": 74,
          "metadata": {},
          "output_type": "execute_result"
        }
      ],
      "source": [
        "poses.shape"
      ]
    },
    {
      "cell_type": "code",
      "execution_count": 75,
      "metadata": {
        "colab": {
          "base_uri": "https://localhost:8080/"
        },
        "id": "wb7dlXr6pS1C",
        "outputId": "232cffbc-d0be-4253-bf81-6bea9d694f53"
      },
      "outputs": [
        {
          "data": {
            "text/plain": [
              "array([[-0.16860745,  0.12699952, -0.13889985, ...,  0.01547092,\n",
              "         0.13283119, -0.28242049],\n",
              "       [-0.00193313, -0.07309378, -0.40431598, ...,  0.71033571,\n",
              "        -0.33469082,  0.69701037],\n",
              "       [-0.11891754,  0.02193251, -0.28468175, ...,  0.47163935,\n",
              "        -0.42118364, -0.0590474 ],\n",
              "       ...,\n",
              "       [-0.02013238,  0.17143567,  0.19258048, ...,  0.85280302,\n",
              "        -0.91707561,  0.72095209],\n",
              "       [ 0.06468249,  0.07182106, -0.04767938, ...,  0.71936823,\n",
              "        -0.32261746, -0.09735304],\n",
              "       [-0.01905158,  0.21760531,  0.14869293, ...,  0.29565598,\n",
              "         0.00755491, -0.22863567]])"
            ]
          },
          "execution_count": 75,
          "metadata": {},
          "output_type": "execute_result"
        }
      ],
      "source": [
        "poses"
      ]
    },
    {
      "cell_type": "code",
      "execution_count": 76,
      "metadata": {
        "id": "dWKDM1Pqpmjn"
      },
      "outputs": [],
      "source": [
        "class MANOHandJoints:\n",
        "  n_joints = 16\n",
        "\n",
        "  labels = [\n",
        "    'I0', 'I1', 'I2', #2\n",
        "    'M0', 'M1', 'M2', #5\n",
        "    'L0', 'L1', 'L2', #8\n",
        "    'R0', 'R1', 'R2', #11\n",
        "    'T0', 'T1', 'T2', #14  \n",
        "  ]\n",
        "\n",
        "mano = MANOHandJoints()"
      ]
    },
    {
      "cell_type": "markdown",
      "metadata": {
        "id": "JEJg7WzvkCDN"
      },
      "source": [
        "Per Zhao, the MANO way of handling joints is different from how he thinks about them, so manually, he added the fingertip joints. It'll be great to catch what he said exactly.\n",
        "\n",
        "One question that must be cleared is: **\"Are the joint information entirely local? or does it include some sort of information based upon the global origin pose?\"** To my intuition, it does not matter what sort of representation is used - locality/globality is independent from that. \n",
        "\n",
        "My weak prediction says that yes, these are local. Because the parent-child relationship is explicitly stated from the code and paper of minimal-hand (where it mentions MANO)."
      ]
    },
    {
      "cell_type": "markdown",
      "metadata": {
        "id": "ZEktSrfL-6F3"
      },
      "source": [
        "## **3. Exploring the API**"
      ]
    },
    {
      "cell_type": "markdown",
      "metadata": {
        "id": "44fke7BXjG9Z"
      },
      "source": [
        "### **3.1. Before We Start**"
      ]
    },
    {
      "cell_type": "markdown",
      "metadata": {
        "id": "C4dNFPlrkbLF"
      },
      "source": [
        "Multi-output nature of our problem poses a problem for FastAI–we lack a well-documented example. (But it seems possible, even without getting hands dirty with fastai's mid-level API.) Let's look for advanced chapters of the FastBook for possible breakthroughs.\n",
        "\n",
        "Okay, FastBook doesn't discuss multi-output cases. Therefore, I've searched up for relevant discussions:\n",
        "   - https://forums.fast.ai/t/fastai-multi-value-regression-with-images-as-input/43866/2\n",
        "   - https://forums.fast.ai/t/i-dont-know-how-to-make-a-multi-output-model-for-structured-data-using-fastai-library/17891\n",
        "   - https://forums.fast.ai/t/tabular-data-with-multiple-outputs/34251\n",
        "   - https://forums.fast.ai/t/multiple-outputs/69137\n",
        "\n",
        "as well as relevant blog posts:\n",
        "   - https://towardsdatascience.com/multi-task-learning-with-pytorch-and-fastai-6d10dc7ce855\n",
        "   - https://getpocket.com/read/2928902383\n",
        "   - https://getpocket.com/read/3093587187\n"
      ]
    },
    {
      "cell_type": "markdown",
      "metadata": {
        "id": "lg5jklLhjMS1"
      },
      "source": [
        "### **3.2. 스크래치노트**"
      ]
    },
    {
      "cell_type": "markdown",
      "metadata": {
        "id": "OisZ9_W7SMAI"
      },
      "source": [
        "좋은 소식과 나쁜 소식—먼저, joint orientation은 꽤나 수학적인 개념이라서 데이터 pre-processing이 거의 필요 없다시피 함. TabularPandas같은 wrapper API를 배울 필요도 없고. 하지만, fastai API 자체가 생각만큼 간단하지 않으며, output이 곧 loss term이 되는 기본값이 axis-angle representation과 얼마나 부합할지... 느낌상으론, 잘되지 않을듯. 결과적으로 논문을 어떻게 오늘 안에 완성할지 모르겠다. 성공적으로 제출하는 시나리오가 있다면 1. 예상보다 결과가 너무 좋아서 개같이 만든 프로토타입을 그냥 제출; 2. 아무리 봐도 실패라서 그냥 실패한걸로 작성.\n",
        "\n",
        "일단 09_tabular에서 쓸만한 코드를 죄다 집어와보자! (약간의 수정을 거침)\n",
        "\n",
        "\n",
        "```\n",
        "df = pd.read_csv(path/'TrainAndValid.csv', low_memory=False)\n",
        "\n",
        "to = TabularPandas(df_final, procs, cat, cont, splits=splits, y_names=dep_var)\n",
        "\n",
        "dls = to.dataloaders(1024)\n",
        "\n",
        "learn = tabular_learner(dls, y_range=(8,12), layers=[500,250], n_out=1, loss_func=F.mse_loss)\n",
        "\n",
        "learn.fit_one_cycles(5, 1e-2)\n",
        "\n",
        "learn.save('neuralnetwork')\n",
        "```"
      ]
    },
    {
      "cell_type": "markdown",
      "metadata": {
        "id": "sKMSzteVD44y"
      },
      "source": [
        "### **3.3. Attempt**"
      ]
    },
    {
      "cell_type": "code",
      "execution_count": 77,
      "metadata": {
        "id": "TwmTCUKYcgQQ"
      },
      "outputs": [],
      "source": [
        "cols = [i+'_'+j for i in mano.labels for j in ['a','b','c']]\n",
        "input_cols = [cols[i] for i in [0,1,2, 9,10,11, 18,19,20, 27,28,29, 36,37,38]] # proximal\n",
        "# input_cols = [cols[i] for i in [3,4,5, 12,13,14, 21,22,23, 30,31,32, 39,40,41]] # intermediate\n",
        "# input_cols = [cols[i] for i in [6,7,8, 15,16,17, 24,25,26, 33,34,35, 42,43,44]] # distal"
      ]
    },
    {
      "cell_type": "code",
      "execution_count": 78,
      "metadata": {
        "id": "GD4VmxYKYf-s"
      },
      "outputs": [],
      "source": [
        "df = pd.DataFrame(poses, columns=cols)"
      ]
    },
    {
      "cell_type": "code",
      "execution_count": 79,
      "metadata": {
        "id": "uajsJNTxjdts"
      },
      "outputs": [],
      "source": [
        "train_idx = np.where(df[:1243])[0]\n",
        "valid_idx = np.where(df[1243:])[0]\n",
        "\n",
        "splits = (list(train_idx),list(valid_idx))"
      ]
    },
    {
      "cell_type": "code",
      "execution_count": 80,
      "metadata": {
        "id": "wld9pvFWjjBi"
      },
      "outputs": [],
      "source": [
        "to = TabularPandas(df, procs=None, cat_names=None, cont_names=input_cols, y_names=cols, splits=splits) # cont_names=cols는 어떨까."
      ]
    },
    {
      "cell_type": "code",
      "execution_count": 81,
      "metadata": {
        "id": "6Kd3QO0Vwgky"
      },
      "outputs": [],
      "source": [
        "dls = to.dataloaders(1024)"
      ]
    },
    {
      "cell_type": "code",
      "execution_count": 82,
      "metadata": {
        "colab": {
          "base_uri": "https://localhost:8080/"
        },
        "id": "14c3v_nL2cYi",
        "outputId": "62323523-1e00-4f3d-8b3e-98bc1253aa15"
      },
      "outputs": [
        {
          "data": {
            "text/plain": [
              "(-0.36331084, 0.6174505)"
            ]
          },
          "execution_count": 82,
          "metadata": {},
          "output_type": "execute_result"
        }
      ],
      "source": [
        "y = to.train.y\n",
        "y.min(), y.max()"
      ]
    },
    {
      "cell_type": "code",
      "execution_count": 83,
      "metadata": {
        "id": "Dt44-isz2da8"
      },
      "outputs": [],
      "source": [
        "learn = tabular_learner(dls, layers = [2048, 1024, 512], y_range=(-1, 1), n_out=45, loss_func=F.mse_loss)"
      ]
    },
    {
      "cell_type": "code",
      "execution_count": 84,
      "metadata": {
        "colab": {
          "base_uri": "https://localhost:8080/",
          "height": 298
        },
        "id": "Yrnu2S_Y3BI1",
        "outputId": "445912d0-03d2-4c2d-8c62-38d55e499c90"
      },
      "outputs": [
        {
          "data": {
            "text/html": [],
            "text/plain": [
              "<IPython.core.display.HTML object>"
            ]
          },
          "metadata": {},
          "output_type": "display_data"
        },
        {
          "data": {
            "text/plain": [
              "SuggestedLRs(valley=0.0006918309954926372)"
            ]
          },
          "execution_count": 84,
          "metadata": {},
          "output_type": "execute_result"
        },
        {
          "data": {
            "image/png": "[encoded data removed]",
            "text/plain": [
              "<Figure size 432x288 with 1 Axes>"
            ]
          },
          "metadata": {
            "needs_background": "light"
          },
          "output_type": "display_data"
        }
      ],
      "source": [
        "learn.lr_find()"
      ]
    },
    {
      "cell_type": "code",
      "execution_count": 47,
      "metadata": {
        "colab": {
          "base_uri": "https://localhost:8080/",
          "height": 718
        },
        "id": "31L0UL7n3CQR",
        "outputId": "40a1a0a1-dba6-4884-fa5e-d6555118e6df"
      },
      "outputs": [
        {
          "data": {
            "text/html": [
              "<table border=\"1\" class=\"dataframe\">\n",
              "  <thead>\n",
              "    <tr style=\"text-align: left;\">\n",
              "      <th>epoch</th>\n",
              "      <th>train_loss</th>\n",
              "      <th>valid_loss</th>\n",
              "      <th>time</th>\n",
              "    </tr>\n",
              "  </thead>\n",
              "  <tbody>\n",
              "    <tr>\n",
              "      <td>0</td>\n",
              "      <td>0.177827</td>\n",
              "      <td>0.121470</td>\n",
              "      <td>00:00</td>\n",
              "    </tr>\n",
              "    <tr>\n",
              "      <td>1</td>\n",
              "      <td>0.119129</td>\n",
              "      <td>0.077659</td>\n",
              "      <td>00:00</td>\n",
              "    </tr>\n",
              "    <tr>\n",
              "      <td>2</td>\n",
              "      <td>0.087473</td>\n",
              "      <td>0.068040</td>\n",
              "      <td>00:00</td>\n",
              "    </tr>\n",
              "    <tr>\n",
              "      <td>3</td>\n",
              "      <td>0.071847</td>\n",
              "      <td>0.058868</td>\n",
              "      <td>00:00</td>\n",
              "    </tr>\n",
              "    <tr>\n",
              "      <td>4</td>\n",
              "      <td>0.078838</td>\n",
              "      <td>0.070309</td>\n",
              "      <td>00:00</td>\n",
              "    </tr>\n",
              "    <tr>\n",
              "      <td>5</td>\n",
              "      <td>0.067368</td>\n",
              "      <td>0.058333</td>\n",
              "      <td>00:00</td>\n",
              "    </tr>\n",
              "    <tr>\n",
              "      <td>6</td>\n",
              "      <td>0.061781</td>\n",
              "      <td>0.056320</td>\n",
              "      <td>00:00</td>\n",
              "    </tr>\n",
              "    <tr>\n",
              "      <td>7</td>\n",
              "      <td>0.058964</td>\n",
              "      <td>0.055558</td>\n",
              "      <td>00:00</td>\n",
              "    </tr>\n",
              "    <tr>\n",
              "      <td>8</td>\n",
              "      <td>0.057554</td>\n",
              "      <td>0.055071</td>\n",
              "      <td>00:00</td>\n",
              "    </tr>\n",
              "    <tr>\n",
              "      <td>9</td>\n",
              "      <td>0.056704</td>\n",
              "      <td>0.054877</td>\n",
              "      <td>00:00</td>\n",
              "    </tr>\n",
              "    <tr>\n",
              "      <td>10</td>\n",
              "      <td>0.056343</td>\n",
              "      <td>0.054759</td>\n",
              "      <td>00:00</td>\n",
              "    </tr>\n",
              "    <tr>\n",
              "      <td>11</td>\n",
              "      <td>0.056158</td>\n",
              "      <td>0.054331</td>\n",
              "      <td>00:00</td>\n",
              "    </tr>\n",
              "    <tr>\n",
              "      <td>12</td>\n",
              "      <td>0.055921</td>\n",
              "      <td>0.054144</td>\n",
              "      <td>00:00</td>\n",
              "    </tr>\n",
              "    <tr>\n",
              "      <td>13</td>\n",
              "      <td>0.055834</td>\n",
              "      <td>0.053766</td>\n",
              "      <td>00:00</td>\n",
              "    </tr>\n",
              "    <tr>\n",
              "      <td>14</td>\n",
              "      <td>0.055322</td>\n",
              "      <td>0.053523</td>\n",
              "      <td>00:00</td>\n",
              "    </tr>\n",
              "    <tr>\n",
              "      <td>15</td>\n",
              "      <td>0.055401</td>\n",
              "      <td>0.053650</td>\n",
              "      <td>00:00</td>\n",
              "    </tr>\n",
              "    <tr>\n",
              "      <td>16</td>\n",
              "      <td>0.055342</td>\n",
              "      <td>0.053342</td>\n",
              "      <td>00:00</td>\n",
              "    </tr>\n",
              "    <tr>\n",
              "      <td>17</td>\n",
              "      <td>0.054937</td>\n",
              "      <td>0.053215</td>\n",
              "      <td>00:00</td>\n",
              "    </tr>\n",
              "    <tr>\n",
              "      <td>18</td>\n",
              "      <td>0.055066</td>\n",
              "      <td>0.053146</td>\n",
              "      <td>00:00</td>\n",
              "    </tr>\n",
              "    <tr>\n",
              "      <td>19</td>\n",
              "      <td>0.054721</td>\n",
              "      <td>0.053092</td>\n",
              "      <td>00:00</td>\n",
              "    </tr>\n",
              "    <tr>\n",
              "      <td>20</td>\n",
              "      <td>0.054445</td>\n",
              "      <td>0.053055</td>\n",
              "      <td>00:00</td>\n",
              "    </tr>\n",
              "    <tr>\n",
              "      <td>21</td>\n",
              "      <td>0.054471</td>\n",
              "      <td>0.053042</td>\n",
              "      <td>00:00</td>\n",
              "    </tr>\n",
              "  </tbody>\n",
              "</table>"
            ],
            "text/plain": [
              "<IPython.core.display.HTML object>"
            ]
          },
          "metadata": {},
          "output_type": "display_data"
        }
      ],
      "source": [
        "learn.fit_one_cycle(n_epoch=22, lr_max=1e-2)"
      ]
    },
    {
      "cell_type": "code",
      "execution_count": 48,
      "metadata": {
        "colab": {
          "base_uri": "https://localhost:8080/",
          "height": 32
        },
        "id": "JEtDWrET3RBN",
        "outputId": "3b5fa363-a4e7-4d64-b52f-5e2fe64bb634"
      },
      "outputs": [
        {
          "data": {
            "text/html": [],
            "text/plain": [
              "<IPython.core.display.HTML object>"
            ]
          },
          "metadata": {},
          "output_type": "display_data"
        },
        {
          "data": {
            "text/plain": [
              "0.23031"
            ]
          },
          "execution_count": 48,
          "metadata": {},
          "output_type": "execute_result"
        }
      ],
      "source": [
        "preds,targs = learn.get_preds()\n",
        "r_mse(preds,targs)"
      ]
    },
    {
      "cell_type": "markdown",
      "metadata": {
        "id": "UNgIRuzY6E7v"
      },
      "source": [
        "아무것도 안건드렸는데도 지혼자 `0.45`까지 올라가는 바람에 그냥 이렇게 놔두고 이동. \n",
        "\n",
        "트레이닝 성공적! 역시 비주얼리제이션이 돼야 정확성에 대한 qualitative analysis가 가능해짐."
      ]
    },
    {
      "cell_type": "code",
      "execution_count": 49,
      "metadata": {
        "colab": {
          "base_uri": "https://localhost:8080/"
        },
        "id": "tDcdLM_53nSs",
        "outputId": "aed1ffef-a5d9-4b56-d8e9-0ea222baa1a8"
      },
      "outputs": [
        {
          "data": {
            "text/plain": [
              "Path('models/fillnet_01.pth')"
            ]
          },
          "execution_count": 49,
          "metadata": {},
          "output_type": "execute_result"
        }
      ],
      "source": [
        "learn.save('fillnet_01')"
      ]
    },
    {
      "cell_type": "markdown",
      "metadata": {
        "id": "fLl7LdATuIkr"
      },
      "source": [
        "### **Why is `get_preds` Obscurely Long**?"
      ]
    },
    {
      "cell_type": "markdown",
      "metadata": {
        "id": "O7lhTQXausQD"
      },
      "source": [
        "For some unknown reason, `get_preds` returns `preds` of size `[13995, 45]` instead of the expected `[1554, 45]`. Here is a re-write of the code, only difference being a different output variable size (1 instead of 45); let's check if that makes a difference."
      ]
    },
    {
      "cell_type": "code",
      "execution_count": 50,
      "metadata": {
        "colab": {
          "base_uri": "https://localhost:8080/",
          "height": 538
        },
        "id": "5gPM1aM9vPI1",
        "outputId": "d7ea232b-179d-47d1-e101-f8764912a38b"
      },
      "outputs": [
        {
          "data": {
            "text/html": [],
            "text/plain": [
              "<IPython.core.display.HTML object>"
            ]
          },
          "metadata": {},
          "output_type": "display_data"
        },
        {
          "data": {
            "text/html": [
              "<table border=\"1\" class=\"dataframe\">\n",
              "  <thead>\n",
              "    <tr style=\"text-align: left;\">\n",
              "      <th>epoch</th>\n",
              "      <th>train_loss</th>\n",
              "      <th>valid_loss</th>\n",
              "      <th>time</th>\n",
              "    </tr>\n",
              "  </thead>\n",
              "  <tbody>\n",
              "    <tr>\n",
              "      <td>0</td>\n",
              "      <td>0.007181</td>\n",
              "      <td>0.000418</td>\n",
              "      <td>00:00</td>\n",
              "    </tr>\n",
              "    <tr>\n",
              "      <td>1</td>\n",
              "      <td>0.001938</td>\n",
              "      <td>0.000064</td>\n",
              "      <td>00:00</td>\n",
              "    </tr>\n",
              "    <tr>\n",
              "      <td>2</td>\n",
              "      <td>0.000703</td>\n",
              "      <td>0.000059</td>\n",
              "      <td>00:00</td>\n",
              "    </tr>\n",
              "    <tr>\n",
              "      <td>3</td>\n",
              "      <td>0.000277</td>\n",
              "      <td>0.000008</td>\n",
              "      <td>00:00</td>\n",
              "    </tr>\n",
              "  </tbody>\n",
              "</table>"
            ],
            "text/plain": [
              "<IPython.core.display.HTML object>"
            ]
          },
          "metadata": {},
          "output_type": "display_data"
        },
        {
          "data": {
            "text/html": [],
            "text/plain": [
              "<IPython.core.display.HTML object>"
            ]
          },
          "metadata": {},
          "output_type": "display_data"
        },
        {
          "name": "stdout",
          "output_type": "stream",
          "text": [
            "torch.Size([13995, 45])\n"
          ]
        },
        {
          "data": {
            "image/png": "[encoded data removed]",
            "text/plain": [
              "<Figure size 432x288 with 1 Axes>"
            ]
          },
          "metadata": {
            "needs_background": "light"
          },
          "output_type": "display_data"
        }
      ],
      "source": [
        "to_001 = TabularPandas(df, procs=None, cat_names=None, cont_names=input_cols, y_names='I0_a', splits=splits) # cont_names=cols는 어떨까.\n",
        "dls_001 = to_001.dataloaders(1024)\n",
        "y_001 = to_001.train.y\n",
        "y_001.min(), y_001.max()\n",
        "learn_001 = tabular_learner(dls_001, y_range=(-1, 1), n_out=45, loss_func=F.mse_loss)\n",
        "learn_001.lr_find()\n",
        "learn_001.fit_one_cycle(n_epoch=4, lr_max=1e-1)\n",
        "\n",
        "preds_001,targs_001 = learn_001.get_preds()\n",
        "r_mse(preds_001,targs_001)\n",
        "print(preds_001.shape)"
      ]
    },
    {
      "cell_type": "markdown",
      "metadata": {
        "id": "vUU3K_JLwpZ7"
      },
      "source": [
        "동일하게 13995 사이즈이므로 무언가 문제가 있다 생각이 된다. 하지만 솔직히 이거 트러블슈팅할 시간 없다 그냥 내자"
      ]
    },
    {
      "cell_type": "markdown",
      "metadata": {
        "id": "I6n1R7UL-ESl"
      },
      "source": [
        "# **FillNet Research Notebook #2**"
      ]
    },
    {
      "cell_type": "markdown",
      "metadata": {
        "id": "KFjqD7W9-Hsi"
      },
      "source": [
        "### **Scope**\n",
        "0. Streamlining fastai ✅\n",
        "1. Loss Function Variation ❎\n",
        "2. Hyperparameter Variation\n",
        "3. Input Data Variation (experimental variable) ✅\n",
        "\n",
        "### **Coming Up**\n",
        "- Statistical analysis for accuracy\n",
        "  - current idea: [mean absolute error](https://summer.gatech.edu/ignite-tentative-course-list-2021/)\n",
        "  - for position and angle"
      ]
    },
    {
      "cell_type": "markdown",
      "metadata": {
        "id": "K0FywX40_DLP"
      },
      "source": [
        "## **1. Loss Function Variation**"
      ]
    },
    {
      "cell_type": "markdown",
      "metadata": {
        "id": "smeHL8Dc_b4N"
      },
      "source": [
        "**Process**:\n",
        "- axis-angle representation -> quaternion representation\n",
        "- learn\n",
        "- create predictions, targets\n",
        "- revert predictions, targets to axis-angle\n",
        "- evaluate root-mean-squared error (RMSE)\n",
        "\n",
        "and then repeat, for rotation matrix representation"
      ]
    },
    {
      "cell_type": "markdown",
      "metadata": {
        "id": "NseMTUH8AEBy"
      },
      "source": [
        "But before doing that, let's read how Zhao's done it for minimal-hand. This man's smart asf, and probably there lies a clever reasoning behind how and why he does what he does. "
      ]
    },
    {
      "cell_type": "markdown",
      "metadata": {
        "id": "l112T8e-ATfL"
      },
      "source": [
        "Zhao defines joint orientation in **quaternions**. He defines a loss function comprised of four terms: 1. the cosine of angle difference (computed directly from quaternions), 2. direct quaternion difference, 3. (??? data pulled from DetNet to add robustness against DetNet-borne noise), 4. quaternion norm (to \"softly constrain into normalized quaternions\").\n",
        "\n",
        "Thought Food: It's interesting what effect the direct quaternion difference loss term has on the overarching performance of the network. Normally, wouldn't one think that the angle difference is what counts?"
      ]
    },
    {
      "cell_type": "code",
      "execution_count": 51,
      "metadata": {
        "id": "26_lSx0nPuc7"
      },
      "outputs": [],
      "source": [
        "class MANOHandJoints:\n",
        "  n_joints = 15\n",
        "\n",
        "  labels = [\n",
        "    'I0', 'I1', 'I2', #2\n",
        "    'M0', 'M1', 'M2', #5\n",
        "    'L0', 'L1', 'L2', #8\n",
        "    'R0', 'R1', 'R2', #11\n",
        "    'T0', 'T1', 'T2', #14  \n",
        "  ]\n",
        "\n",
        "mano = MANOHandJoints()\n",
        "\n",
        "\n",
        "def r_mse(pred,y): return round(math.sqrt(((pred-y)**2).mean()), 6)\n",
        "\n",
        "cols_axang = [i+'_'+j for i in mano.labels for j in ['a','b','c']]\n",
        "cols_quat = [i+'_'+j for i in mano.labels for j in ['q', 'x', 'y', 'z']]\n",
        "\n",
        "def select_cols(cols, selection): return [cols[i] for i in selection]\n",
        "\n",
        "def split(df, ratio): \n",
        "    marker = int(poses.shape[0] * ratio)\n",
        "    train_idx = np.where(df[:marker])[0]\n",
        "    valid_idx = np.where(df[marker:])[0]\n",
        "    splits = (list(train_idx),list(valid_idx)); return splits"
      ]
    },
    {
      "cell_type": "code",
      "execution_count": 52,
      "metadata": {
        "id": "sszkWQuQP5Rf"
      },
      "outputs": [],
      "source": [
        "def ml(cols, input_cols, data, split_ratio):\n",
        "    # data initialization\n",
        "    df = pd.DataFrame(data, columns=cols)\n",
        "    # further initialization\n",
        "    to = TabularPandas(df, procs=None, cat_names=None, cont_names=input_cols, y_names=cols, splits=split(df, split_ratio))\n",
        "    # dataloader\n",
        "    dls = to.dataloaders(1024)\n",
        "\n",
        "    y = to.train.y\n",
        "    y.min(), y.max()\n",
        "\n",
        "    learn = tabular_learner(dls, y_range=(-1, 1), n_out=data.shape[1], loss_func=F.mse_loss)\n",
        "    learn.lr_find()\n",
        "    learn.fit_one_cycle(n_epoch=4, lr_max=1e-1)\n",
        "\n",
        "    preds,targs = learn.get_preds()\n",
        "    return r_mse(preds,targs)"
      ]
    },
    {
      "cell_type": "markdown",
      "metadata": {
        "id": "m8oX256xWulE"
      },
      "source": [
        "```\n",
        "input_cols = select_cols(cols_axang, [1, 4, 7, 10, 13])\n",
        "\n",
        "ml(input_cols, poses_quat, split_ratio=0.8)\n",
        "```"
      ]
    },
    {
      "cell_type": "code",
      "execution_count": 53,
      "metadata": {
        "id": "Q0SDlABVXLK0"
      },
      "outputs": [],
      "source": [
        "poses = np.load('./handsOnly_REGISTRATIONS_r_lm___POSES___R.npy')"
      ]
    },
    {
      "cell_type": "code",
      "execution_count": 54,
      "metadata": {
        "id": "bUX0zS-HZt7v"
      },
      "outputs": [],
      "source": [
        "poses_quat = np.zeros(shape=[poses.shape[0], 60])\n",
        "\n",
        "for row in range(poses.shape[0]):\n",
        "    for i in range(15): \n",
        "        iii, iiii = i*3, i*4\n",
        "        axang = [poses[row,iii+0], poses[row,iii+1], poses[row,iii+2]]\n",
        "        quat = axang2quat(axis=[axang[0], axang[1], 0], angle=axang[2]) # 3-element axang to 4-element axang, how?\n",
        "        \n",
        "        poses_quat[row, iiii+0] = quat[0]\n",
        "        poses_quat[row, iiii+1] = quat[1]\n",
        "        poses_quat[row, iiii+2] = quat[2]\n",
        "        poses_quat[row, iiii+3] = quat[3]"
      ]
    },
    {
      "cell_type": "code",
      "execution_count": 55,
      "metadata": {
        "colab": {
          "base_uri": "https://localhost:8080/",
          "height": 452
        },
        "id": "IHKfy95IUPi_",
        "outputId": "f4c46480-3a3c-44ca-fd71-bee63a4e2b5d"
      },
      "outputs": [
        {
          "data": {
            "text/html": [],
            "text/plain": [
              "<IPython.core.display.HTML object>"
            ]
          },
          "metadata": {},
          "output_type": "display_data"
        },
        {
          "data": {
            "text/html": [
              "<table border=\"1\" class=\"dataframe\">\n",
              "  <thead>\n",
              "    <tr style=\"text-align: left;\">\n",
              "      <th>epoch</th>\n",
              "      <th>train_loss</th>\n",
              "      <th>valid_loss</th>\n",
              "      <th>time</th>\n",
              "    </tr>\n",
              "  </thead>\n",
              "  <tbody>\n",
              "    <tr>\n",
              "      <td>0</td>\n",
              "      <td>0.060160</td>\n",
              "      <td>0.018348</td>\n",
              "      <td>00:00</td>\n",
              "    </tr>\n",
              "    <tr>\n",
              "      <td>1</td>\n",
              "      <td>0.025998</td>\n",
              "      <td>0.011267</td>\n",
              "      <td>00:00</td>\n",
              "    </tr>\n",
              "    <tr>\n",
              "      <td>2</td>\n",
              "      <td>0.013676</td>\n",
              "      <td>0.006957</td>\n",
              "      <td>00:00</td>\n",
              "    </tr>\n",
              "    <tr>\n",
              "      <td>3</td>\n",
              "      <td>0.008754</td>\n",
              "      <td>0.006277</td>\n",
              "      <td>00:00</td>\n",
              "    </tr>\n",
              "  </tbody>\n",
              "</table>"
            ],
            "text/plain": [
              "<IPython.core.display.HTML object>"
            ]
          },
          "metadata": {},
          "output_type": "display_data"
        },
        {
          "data": {
            "text/html": [],
            "text/plain": [
              "<IPython.core.display.HTML object>"
            ]
          },
          "metadata": {},
          "output_type": "display_data"
        },
        {
          "name": "stdout",
          "output_type": "stream",
          "text": [
            "0.079228\n"
          ]
        },
        {
          "data": {
            "image/png": "[encoded data removed]",
            "text/plain": [
              "<Figure size 432x288 with 1 Axes>"
            ]
          },
          "metadata": {
            "needs_background": "light"
          },
          "output_type": "display_data"
        }
      ],
      "source": [
        "input_cols = select_cols(cols_quat, [4,5,6,7, 16,17,18,19, 28,29,30,31, 40,41,42,43, 52,53,54,55])\n",
        "\n",
        "print(ml(cols_quat, input_cols, poses_quat, split_ratio=0.8))"
      ]
    },
    {
      "cell_type": "code",
      "execution_count": 56,
      "metadata": {
        "colab": {
          "base_uri": "https://localhost:8080/"
        },
        "id": "VeLVyi1XfcuP",
        "outputId": "6474173c-40d0-4bb9-87ff-29d4899d7243"
      },
      "outputs": [
        {
          "data": {
            "text/plain": [
              "60"
            ]
          },
          "execution_count": 56,
          "metadata": {},
          "output_type": "execute_result"
        }
      ],
      "source": [
        "len(cols_quat)"
      ]
    },
    {
      "cell_type": "code",
      "execution_count": 57,
      "metadata": {
        "colab": {
          "base_uri": "https://localhost:8080/"
        },
        "id": "Dtu-jJXotmEF",
        "outputId": "f1acd567-e81a-4398-9916-c5335c6812ed"
      },
      "outputs": [
        {
          "data": {
            "text/plain": [
              "(1554, 60)"
            ]
          },
          "execution_count": 57,
          "metadata": {},
          "output_type": "execute_result"
        }
      ],
      "source": [
        "poses_quat.shape"
      ]
    },
    {
      "cell_type": "markdown",
      "metadata": {
        "id": "aehR8tN4_-eC"
      },
      "source": [
        "## **타임!**\n",
        "\n",
        "### **work still required for paper**\n",
        "- Completion of model\n",
        "  - Loss function for training \n",
        "    - effectively a validation set: semi-visible to the model but necessary for model\n",
        "  - Accuracy function for decision-making\n",
        "    - effectively a test set: invisible to the model, but necessary for me\n",
        "- Qualitative analysis method\n",
        "  - = visualization\n",
        "  - Pose estimation is an intrinsically visual task; we humans represent it in visual forms\n"
      ]
    },
    {
      "cell_type": "markdown",
      "metadata": {
        "id": "pE4-8nCLGO2J"
      },
      "source": [
        "## 공부를 좀 했다\n",
        "\n",
        "배운점:\n",
        "- 손해함수 정의하는거 은근 쉽다; 거의 코드의 탈을 쓴 수학. `포워드`에선 손해를 계산하여 반환한다. 예시에선 거의 모든 계산을 `반환` 키워드 후에 한번에 통짜로 하는데, 내 생각엔 경사하강을 위해선 함수의 미분을 프로그램이 알아야 하기때문에, 가장 난해하지 않은 방식으로, 컴퓨터가 미분값을 알 수 있게 계산해야 한다 추정했는데, 이게 맞는지는 아직 모르겠다. \n",
        "  - Zhao가 쿼터니온을 사용한 계기를 설명하며 \"삼각함수를 사용하지 않으므로 non-injective하여 트레이닝에 우월하다나 뭐라나\" 그랬는데, 아무쪼록 이거랑 관련되었을 듯. 암튼 Zhao의 손해함수를 모방하는 것이 좋은 결과를 만들거란 것을 아직 확신.\n",
        "- `activation`과 `decode` 함수를 정의해야 하지만, 사실상 API적 껍데기이다. 단순히 [`softmax`](https://medium.com/data-science-bootcamp/understand-the-softmax-function-in-minutes-f3a59641e86d)와 [`argmax`](https://machinelearningmastery.com/argmax-in-machine-learning/)를 반환하면 된다. \n",
        "- [FastBook 손해함수 예시](https://docs.fast.ai/tutorial.imagenette#Changing-the-loss-function)"
      ]
    },
    {
      "cell_type": "markdown",
      "metadata": {
        "id": "zP8WnbsHzjwY"
      },
      "source": [
        "### 공부를 더 함\n",
        "\n",
        "**Why can’t we use accuracy as a loss function?**\n",
        "\n",
        "According to [sinclair](https://mjwoo001.medium.com/why-cant-we-use-accuracy-as-a-loss-function-c15c54ca2e0a): \"A loss function must be differentiable to perform gradient descent. It seems like you’re trying to measure some sort of 1-accuracy. This doesn’t have a derivative, so you can’t use it.\n",
        "\n",
        "- *gradient descent* : An optimization algorithm used to minimize some function by iteratively moving in the direction of steepest descent as defined by the negative of the gradient. -> This is the way to fine linear and the machine learns it.\"\n",
        "\n",
        "그니까 내 직감이 맞았네. 손해함수는 아무거나 떄려박는다고 되는건 아니다. 모델을 향상하려면 미분값이 필요하다. 변수가 2개쯤이라면 brute-forcing하면 되겠지만, 변수가 15개씩 되면 기하급수적으로 계산량이 늘어난다. "
      ]
    },
    {
      "cell_type": "markdown",
      "metadata": {
        "id": "qyNqC5Rn3oM-"
      },
      "source": [
        "**결론.** The above outline still applies. However: the loss function must be differentiable in addition to \"relevant\" (in terms of model improvement). 그러니까 인균형한테 물어보는게 역시 맞다. 요지는: 3D orientation에 대한 loss function을 구현하려 한다는 것; Zhao가 만든 예시를 보여주는 것; 각 input variable에 직접적으로 대응하는 미분이 필요할텐데 손해함수 내의 계산이 복잡해지거나 난해해진다면 프로그램은 그것을 처리할 수 있는지, 만약 가능하다면 어떻게인지, 불가능하다면 어떤 가능성이 있을지."
      ]
    },
    {
      "cell_type": "markdown",
      "metadata": {
        "id": "Yg6KnZgbaAJ3"
      },
      "source": [
        "### 이제 쓰자\n",
        "\n",
        "FastAI Template\n",
        "```\n",
        "class LabelSmoothingCE(Module):\n",
        "    def __init__(self, self.eps = 0.1, reduction='mean'): self.eps,self.reduction = eps,reduction\n",
        "\n",
        "    def forward(self, output, target):\n",
        "        c = output.size()[-1]\n",
        "        log_preds = F.log_softmax(output, dim=-1)\n",
        "        if self.reduction=='sum': loss = -log_preds.sum()\n",
        "        else:\n",
        "            loss = -log_preds.sum(dim=-1) #We divide by that size at the return line so sum and not mean\n",
        "            if self.reduction=='mean':  loss = loss.mean()\n",
        "        return loss*self.eps/c + (1-self.eps) * F.nll_loss(log_preds, target.long(), reduction=self.reduction)\n",
        "\n",
        "    def activation(self, out): return F.softmax(out, dim=-1)\n",
        "    def decodes(self, out):    return out.argmax(dim=-1)\n",
        "```\n",
        "\n",
        "[Deconstructing `axis=-1`](https://stackoverflow.com/questions/47435526/what-is-the-meaning-of-axis-1-in-keras-argmax)"
      ]
    },
    {
      "cell_type": "markdown",
      "metadata": {
        "id": "oQV0urfMj5aM"
      },
      "source": [
        "**Pseudocode**\n",
        "1. Perform quaternion inverse\n",
        "2. Perform quaternion multiplication\n",
        "3. Extract real parts; subtract from 1.\n"
      ]
    },
    {
      "cell_type": "code",
      "execution_count": 58,
      "metadata": {
        "colab": {
          "base_uri": "https://localhost:8080/",
          "height": 116
        },
        "id": "_xUyfWbBBT_o",
        "outputId": "bb2d9181-9505-490a-ca06-f9f7a6de377e"
      },
      "outputs": [
        {
          "data": {
            "text/plain": [
              "\"class QuaternionLoss(Module):\\n    def __init__(self, reduction='mean'): self.reduction = reduction\\n\\n    def forward(self, output, target):\\n        c = output.size()[-1]\\n        quaternion\\n        for i in range(15): for j in range(4): \\n        \\n        if self.reduction='sum':\\n            pass\\n        \\n        if self.reduction=='mean':\\n            pass\\n        \\n    def activation(self, out): return F.softmax(out, dim=-1)\\n    def decodes(self, out):       return out.argmax(dim=-1)\""
            ]
          },
          "execution_count": 58,
          "metadata": {},
          "output_type": "execute_result"
        }
      ],
      "source": [
        "'''class QuaternionLoss(Module):\n",
        "    def __init__(self, reduction='mean'): self.reduction = reduction\n",
        "\n",
        "    def forward(self, output, target):\n",
        "        c = output.size()[-1]\n",
        "        quaternion\n",
        "        for i in range(15): for j in range(4): \n",
        "        \n",
        "        if self.reduction='sum':\n",
        "            pass\n",
        "        \n",
        "        if self.reduction=='mean':\n",
        "            pass\n",
        "        \n",
        "    def activation(self, out): return F.softmax(out, dim=-1)\n",
        "    def decodes(self, out):       return out.argmax(dim=-1)'''"
      ]
    },
    {
      "cell_type": "markdown",
      "metadata": {
        "id": "dsnyWZqGiC-D"
      },
      "source": [
        "Unanswered Questions\n",
        "- wtf is a reduction?\n",
        "- `F` is from PyTorch. What do I import to use it?"
      ]
    },
    {
      "cell_type": "markdown",
      "metadata": {
        "id": "Mw2rY_dZxKUC"
      },
      "source": [
        "## **Hyperparameter Variation**"
      ]
    },
    {
      "cell_type": "markdown",
      "metadata": {
        "id": "UOOCQe_3xQne"
      },
      "source": []
    },
    {
      "cell_type": "markdown",
      "metadata": {
        "id": "TwbbFGUFJVq8"
      },
      "source": [
        "# **FillNet Research Notebook #3**"
      ]
    },
    {
      "cell_type": "code",
      "execution_count": 59,
      "metadata": {
        "id": "aGJkVnXLNSq_"
      },
      "outputs": [],
      "source": [
        "MANO_parents = [\n",
        "    None, 0, 1,\n",
        "    None, 3, 4,\n",
        "    None, 6, 7,\n",
        "    None, 9, 10,\n",
        "    None, 12, 13\n",
        "]"
      ]
    },
    {
      "cell_type": "code",
      "execution_count": 60,
      "metadata": {
        "id": "7BsXAmNiJXwO"
      },
      "outputs": [],
      "source": [
        "pred = preds[0,:]; targ = targs[0,:]\n",
        "\n",
        "def mae_angle(pred, targ):\n",
        "    joint_pd = [None]*15\n",
        "    joint_gt = [None]*15\n",
        "    error = np.zeros(shape=[15])\n",
        "\n",
        "    for i in range(15):\n",
        "        idx = 3*i\n",
        "        \n",
        "        joint_pd[i] = R.from_rotvec([targ[idx+0], targ[idx+1], targ[idx+2]])\n",
        "        joint_gt[i] = R.from_rotvec([pred[idx+0], pred[idx+1], pred[idx+2]])\n",
        "\n",
        "        if MANO_parents[i]:\n",
        "            joint_pd[i] = joint_pd[i]*joint_pd[MANO_parents[i]]\n",
        "            joint_gt[i] = joint_gt[i]*joint_gt[MANO_parents[i]]\n",
        "\n",
        "        # a = joint_pd[i].copy(); b = joint_gt[i].copy()\n",
        "        a = joint_pd[i]; b = joint_gt[i]\n",
        "        error[i] = (a.inv()*b).magnitude()\n",
        "\n",
        "\n",
        "    return np.mean(error)"
      ]
    },
    {
      "cell_type": "code",
      "execution_count": 61,
      "metadata": {
        "colab": {
          "base_uri": "https://localhost:8080/"
        },
        "id": "l4qRp5pkSB_C",
        "outputId": "484f0882-4492-4edb-e827-6e3c072c9eab"
      },
      "outputs": [
        {
          "data": {
            "text/plain": [
              "0.026576224974504216"
            ]
          },
          "execution_count": 61,
          "metadata": {},
          "output_type": "execute_result"
        }
      ],
      "source": [
        "mae_angle(pred, targ)"
      ]
    },
    {
      "cell_type": "code",
      "execution_count": 62,
      "metadata": {
        "id": "6bGsptpNSHm1"
      },
      "outputs": [],
      "source": [
        "def mae_angles(preds, targs):\n",
        "    if not preds.shape[0] == targs.shape[0]: return\n",
        "\n",
        "    h = preds.shape[0]\n",
        "\n",
        "    errors = np.zeros(h)\n",
        "\n",
        "    for i in range(h):\n",
        "        errors[i] = mae_angle(preds[i], targs[i])\n",
        "\n",
        "    return np.mean(errors)"
      ]
    },
    {
      "cell_type": "code",
      "execution_count": 63,
      "metadata": {
        "id": "LeJ4QJ9rTzzD"
      },
      "outputs": [],
      "source": [
        "mae_in_angles = mae_angles(preds, targs)"
      ]
    },
    {
      "cell_type": "code",
      "execution_count": 64,
      "metadata": {
        "colab": {
          "base_uri": "https://localhost:8080/"
        },
        "id": "vVIKomlXzggd",
        "outputId": "ec59e4a7-3a71-419a-e64e-e8020db7d74a"
      },
      "outputs": [
        {
          "data": {
            "text/plain": [
              "9.11"
            ]
          },
          "execution_count": 64,
          "metadata": {},
          "output_type": "execute_result"
        }
      ],
      "source": [
        "round(mae_in_angles * 180 / 3.14, 2)"
      ]
    },
    {
      "cell_type": "code",
      "execution_count": 65,
      "metadata": {
        "colab": {
          "base_uri": "https://localhost:8080/"
        },
        "id": "wFQgSltgJeYx",
        "outputId": "8ebfb111-b13d-448f-8675-9ed2f5de9ec7"
      },
      "outputs": [
        {
          "data": {
            "text/plain": [
              "(torch.Size([13995, 45]), torch.Size([13995, 45]))"
            ]
          },
          "execution_count": 65,
          "metadata": {},
          "output_type": "execute_result"
        }
      ],
      "source": [
        "# 근데 이 preds, targs이 axis-angle representation (NB#1.3.3)의 걔가 맞나...?\n",
        "preds.shape, targs.shape\n",
        "# 맞네. 근데 소스 데이터 엔트리가 1554개인데 어떻게 타겟값이 13995지... 이거 만든건가? 뭐지 preds와 targs라는거?"
      ]
    },
    {
      "cell_type": "markdown",
      "metadata": {
        "id": "qF19s9GWKSjy"
      },
      "source": [
        "\n",
        "\n",
        "*   Proximal: `0.30444651398953615`, `0.2925911194415169`, `0.29445168103560426`, `0.29492580391595413`, `0.29148365635624424`\n",
        "*   Intermediate: `0.298127249837953`, `0.2971486160172602`\n",
        "*   Distal: `0.33528198386633556`, `0.3359353493148906`\n",
        "\n",
        "이유는 파악 못했지만, 런타임 재시작이 필수적인듯. 값이 다르다. \n",
        "\n",
        "아니구나... 똑같다..."
      ]
    },
    {
      "cell_type": "markdown",
      "metadata": {
        "id": "jn1mmHloSZkq"
      },
      "source": [
        "![alt text](/content/drive/MyDrive/make/Hand/handpose/MAE_Reference_Screenshot.png \"Title\")\n",
        "<img src=\"/content/drive/MyDrive/make/Hand/handpose/MAE_Reference_Screenshot.png\">"
      ]
    }
  ],
  "metadata": {
    "accelerator": "GPU",
    "colab": {
      "collapsed_sections": [
        "3ls9WF8p3O95",
        "XId3t5Na-wfe",
        "KFjqD7W9-Hsi",
        "aehR8tN4_-eC"
      ],
      "name": "FillNet Research Notebook!",
      "provenance": []
    },
    "kernelspec": {
      "display_name": "Python 3",
      "name": "python3"
    },
    "language_info": {
      "codemirror_mode": {
        "name": "ipython",
        "version": 3
      },
      "file_extension": ".py",
      "mimetype": "text/x-python",
      "name": "python",
      "nbconvert_exporter": "python",
      "pygments_lexer": "ipython3",
      "version": "3.7.9"
    }
  },
  "nbformat": 4,
  "nbformat_minor": 0
}
