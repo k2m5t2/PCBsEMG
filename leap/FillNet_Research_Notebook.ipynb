{
  "nbformat": 4,
  "nbformat_minor": 0,
  "metadata": {
    "accelerator": "GPU",
    "colab": {
      "name": "FillNet Research Notebook!",
      "provenance": [],
      "collapsed_sections": [
        "3ls9WF8p3O95",
        "XId3t5Na-wfe",
        "KFjqD7W9-Hsi",
        "aehR8tN4_-eC"
      ]
    },
    "kernelspec": {
      "display_name": "Python 3",
      "name": "python3"
    },
    "language_info": {
      "name": "python"
    }
  },
  "cells": [
    {
      "cell_type": "markdown",
      "metadata": {
        "id": "3ls9WF8p3O95"
      },
      "source": [
        "# **Setup**"
      ]
    },
    {
      "cell_type": "code",
      "metadata": {
        "colab": {
          "base_uri": "https://localhost:8080/"
        },
        "id": "j3BqxxEWOtLr",
        "outputId": "96a15a2a-3b3d-4995-af30-c81a5c41a081"
      },
      "source": [
        "!pip install ahrs\n",
        "!pip install fastai --upgrade"
      ],
      "execution_count": null,
      "outputs": [
        {
          "output_type": "stream",
          "text": [
            "Collecting ahrs\n",
            "\u001b[?25l  Downloading https://files.pythonhosted.org/packages/b1/50/5b7ff33bc6c3b35ae8d1c9b03af0f2a8bb6b9f85c2d35b6e9680667e724d/AHRS-0.3.0-py3-none-any.whl (196kB)\n",
            "\r\u001b[K     |█▋                              | 10kB 17.8MB/s eta 0:00:01\r\u001b[K     |███▎                            | 20kB 20.8MB/s eta 0:00:01\r\u001b[K     |█████                           | 30kB 23.5MB/s eta 0:00:01\r\u001b[K     |██████▋                         | 40kB 18.7MB/s eta 0:00:01\r\u001b[K     |████████▎                       | 51kB 9.5MB/s eta 0:00:01\r\u001b[K     |██████████                      | 61kB 9.0MB/s eta 0:00:01\r\u001b[K     |███████████▋                    | 71kB 9.3MB/s eta 0:00:01\r\u001b[K     |█████████████▎                  | 81kB 9.9MB/s eta 0:00:01\r\u001b[K     |███████████████                 | 92kB 10.8MB/s eta 0:00:01\r\u001b[K     |████████████████▋               | 102kB 8.9MB/s eta 0:00:01\r\u001b[K     |██████████████████▎             | 112kB 8.9MB/s eta 0:00:01\r\u001b[K     |████████████████████            | 122kB 8.9MB/s eta 0:00:01\r\u001b[K     |█████████████████████▋          | 133kB 8.9MB/s eta 0:00:01\r\u001b[K     |███████████████████████▎        | 143kB 8.9MB/s eta 0:00:01\r\u001b[K     |█████████████████████████       | 153kB 8.9MB/s eta 0:00:01\r\u001b[K     |██████████████████████████▋     | 163kB 8.9MB/s eta 0:00:01\r\u001b[K     |████████████████████████████▎   | 174kB 8.9MB/s eta 0:00:01\r\u001b[K     |██████████████████████████████  | 184kB 8.9MB/s eta 0:00:01\r\u001b[K     |███████████████████████████████▋| 194kB 8.9MB/s eta 0:00:01\r\u001b[K     |████████████████████████████████| 204kB 8.9MB/s \n",
            "\u001b[?25hRequirement already satisfied: numpy in /usr/local/lib/python3.7/dist-packages (from ahrs) (1.19.5)\n",
            "Installing collected packages: ahrs\n",
            "Successfully installed ahrs-0.3.0\n",
            "Collecting fastai\n",
            "\u001b[?25l  Downloading https://files.pythonhosted.org/packages/e8/79/e8a87e4c20238e114671314426227db8647d2b42744eab79e0917c59865e/fastai-2.3.1-py3-none-any.whl (194kB)\n",
            "\u001b[K     |████████████████████████████████| 204kB 8.3MB/s \n",
            "\u001b[?25hRequirement already satisfied, skipping upgrade: pip in /usr/local/lib/python3.7/dist-packages (from fastai) (19.3.1)\n",
            "Requirement already satisfied, skipping upgrade: torchvision>=0.8.2 in /usr/local/lib/python3.7/dist-packages (from fastai) (0.9.1+cu101)\n",
            "Collecting fastcore<1.4,>=1.3.8\n",
            "\u001b[?25l  Downloading https://files.pythonhosted.org/packages/d8/b0/f1fbf554e0bf3c76e1bdc3b82eedfe41fcf656479586be38c64421082b1b/fastcore-1.3.20-py3-none-any.whl (53kB)\n",
            "\u001b[K     |████████████████████████████████| 61kB 8.9MB/s \n",
            "\u001b[?25hRequirement already satisfied, skipping upgrade: spacy<4 in /usr/local/lib/python3.7/dist-packages (from fastai) (2.2.4)\n",
            "Requirement already satisfied, skipping upgrade: pandas in /usr/local/lib/python3.7/dist-packages (from fastai) (1.1.5)\n",
            "Requirement already satisfied, skipping upgrade: scikit-learn in /usr/local/lib/python3.7/dist-packages (from fastai) (0.22.2.post1)\n",
            "Requirement already satisfied, skipping upgrade: packaging in /usr/local/lib/python3.7/dist-packages (from fastai) (20.9)\n",
            "Requirement already satisfied, skipping upgrade: pillow>6.0.0 in /usr/local/lib/python3.7/dist-packages (from fastai) (7.1.2)\n",
            "Requirement already satisfied, skipping upgrade: scipy in /usr/local/lib/python3.7/dist-packages (from fastai) (1.4.1)\n",
            "Requirement already satisfied, skipping upgrade: pyyaml in /usr/local/lib/python3.7/dist-packages (from fastai) (3.13)\n",
            "Requirement already satisfied, skipping upgrade: fastprogress>=0.2.4 in /usr/local/lib/python3.7/dist-packages (from fastai) (1.0.0)\n",
            "Requirement already satisfied, skipping upgrade: torch<1.9,>=1.7.0 in /usr/local/lib/python3.7/dist-packages (from fastai) (1.8.1+cu101)\n",
            "Requirement already satisfied, skipping upgrade: requests in /usr/local/lib/python3.7/dist-packages (from fastai) (2.23.0)\n",
            "Requirement already satisfied, skipping upgrade: matplotlib in /usr/local/lib/python3.7/dist-packages (from fastai) (3.2.2)\n",
            "Requirement already satisfied, skipping upgrade: numpy in /usr/local/lib/python3.7/dist-packages (from torchvision>=0.8.2->fastai) (1.19.5)\n",
            "Requirement already satisfied, skipping upgrade: blis<0.5.0,>=0.4.0 in /usr/local/lib/python3.7/dist-packages (from spacy<4->fastai) (0.4.1)\n",
            "Requirement already satisfied, skipping upgrade: tqdm<5.0.0,>=4.38.0 in /usr/local/lib/python3.7/dist-packages (from spacy<4->fastai) (4.41.1)\n",
            "Requirement already satisfied, skipping upgrade: preshed<3.1.0,>=3.0.2 in /usr/local/lib/python3.7/dist-packages (from spacy<4->fastai) (3.0.5)\n",
            "Requirement already satisfied, skipping upgrade: setuptools in /usr/local/lib/python3.7/dist-packages (from spacy<4->fastai) (56.1.0)\n",
            "Requirement already satisfied, skipping upgrade: catalogue<1.1.0,>=0.0.7 in /usr/local/lib/python3.7/dist-packages (from spacy<4->fastai) (1.0.0)\n",
            "Requirement already satisfied, skipping upgrade: plac<1.2.0,>=0.9.6 in /usr/local/lib/python3.7/dist-packages (from spacy<4->fastai) (1.1.3)\n",
            "Requirement already satisfied, skipping upgrade: wasabi<1.1.0,>=0.4.0 in /usr/local/lib/python3.7/dist-packages (from spacy<4->fastai) (0.8.2)\n",
            "Requirement already satisfied, skipping upgrade: srsly<1.1.0,>=1.0.2 in /usr/local/lib/python3.7/dist-packages (from spacy<4->fastai) (1.0.5)\n",
            "Requirement already satisfied, skipping upgrade: murmurhash<1.1.0,>=0.28.0 in /usr/local/lib/python3.7/dist-packages (from spacy<4->fastai) (1.0.5)\n",
            "Requirement already satisfied, skipping upgrade: thinc==7.4.0 in /usr/local/lib/python3.7/dist-packages (from spacy<4->fastai) (7.4.0)\n",
            "Requirement already satisfied, skipping upgrade: cymem<2.1.0,>=2.0.2 in /usr/local/lib/python3.7/dist-packages (from spacy<4->fastai) (2.0.5)\n",
            "Requirement already satisfied, skipping upgrade: pytz>=2017.2 in /usr/local/lib/python3.7/dist-packages (from pandas->fastai) (2018.9)\n",
            "Requirement already satisfied, skipping upgrade: python-dateutil>=2.7.3 in /usr/local/lib/python3.7/dist-packages (from pandas->fastai) (2.8.1)\n",
            "Requirement already satisfied, skipping upgrade: joblib>=0.11 in /usr/local/lib/python3.7/dist-packages (from scikit-learn->fastai) (1.0.1)\n",
            "Requirement already satisfied, skipping upgrade: pyparsing>=2.0.2 in /usr/local/lib/python3.7/dist-packages (from packaging->fastai) (2.4.7)\n",
            "Requirement already satisfied, skipping upgrade: typing-extensions in /usr/local/lib/python3.7/dist-packages (from torch<1.9,>=1.7.0->fastai) (3.7.4.3)\n",
            "Requirement already satisfied, skipping upgrade: certifi>=2017.4.17 in /usr/local/lib/python3.7/dist-packages (from requests->fastai) (2020.12.5)\n",
            "Requirement already satisfied, skipping upgrade: urllib3!=1.25.0,!=1.25.1,<1.26,>=1.21.1 in /usr/local/lib/python3.7/dist-packages (from requests->fastai) (1.24.3)\n",
            "Requirement already satisfied, skipping upgrade: chardet<4,>=3.0.2 in /usr/local/lib/python3.7/dist-packages (from requests->fastai) (3.0.4)\n",
            "Requirement already satisfied, skipping upgrade: idna<3,>=2.5 in /usr/local/lib/python3.7/dist-packages (from requests->fastai) (2.10)\n",
            "Requirement already satisfied, skipping upgrade: cycler>=0.10 in /usr/local/lib/python3.7/dist-packages (from matplotlib->fastai) (0.10.0)\n",
            "Requirement already satisfied, skipping upgrade: kiwisolver>=1.0.1 in /usr/local/lib/python3.7/dist-packages (from matplotlib->fastai) (1.3.1)\n",
            "Requirement already satisfied, skipping upgrade: importlib-metadata>=0.20; python_version < \"3.8\" in /usr/local/lib/python3.7/dist-packages (from catalogue<1.1.0,>=0.0.7->spacy<4->fastai) (4.0.1)\n",
            "Requirement already satisfied, skipping upgrade: six>=1.5 in /usr/local/lib/python3.7/dist-packages (from python-dateutil>=2.7.3->pandas->fastai) (1.15.0)\n",
            "Requirement already satisfied, skipping upgrade: zipp>=0.5 in /usr/local/lib/python3.7/dist-packages (from importlib-metadata>=0.20; python_version < \"3.8\"->catalogue<1.1.0,>=0.0.7->spacy<4->fastai) (3.4.1)\n",
            "Installing collected packages: fastcore, fastai\n",
            "  Found existing installation: fastai 1.0.61\n",
            "    Uninstalling fastai-1.0.61:\n",
            "      Successfully uninstalled fastai-1.0.61\n",
            "Successfully installed fastai-2.3.1 fastcore-1.3.20\n"
          ],
          "name": "stdout"
        }
      ]
    },
    {
      "cell_type": "markdown",
      "metadata": {
        "id": "ulKJuVpa4mwC"
      },
      "source": [
        "\n",
        "```\n",
        "from google.colab import drive\n",
        "drive.mount('/content/drive')\n",
        "```\n",
        "\n",
        "It's more convenient to use the UI for mounting Google Drive."
      ]
    },
    {
      "cell_type": "code",
      "metadata": {
        "id": "XctLaurd4DAa"
      },
      "source": [
        "import numpy as np\n",
        "import pandas as pd"
      ],
      "execution_count": null,
      "outputs": []
    },
    {
      "cell_type": "code",
      "metadata": {
        "id": "WSFr9QeWGW6m"
      },
      "source": [
        "from fastai.tabular.all import *"
      ],
      "execution_count": null,
      "outputs": []
    },
    {
      "cell_type": "code",
      "metadata": {
        "id": "wukZCr-KGVFV"
      },
      "source": [
        "import ahrs.common.orientation\n",
        "from ahrs.common.orientation import *"
      ],
      "execution_count": null,
      "outputs": []
    },
    {
      "cell_type": "code",
      "metadata": {
        "id": "ki-bJ35g5x6Q"
      },
      "source": [
        "from scipy.spatial.transform import Rotation as R"
      ],
      "execution_count": null,
      "outputs": []
    },
    {
      "cell_type": "code",
      "metadata": {
        "id": "STHEFWZo2503"
      },
      "source": [
        "def r_mse(pred,y): return round(math.sqrt(((pred-y)**2).mean()), 6)"
      ],
      "execution_count": null,
      "outputs": []
    },
    {
      "cell_type": "markdown",
      "metadata": {
        "id": "4DeJO1fV-jSY"
      },
      "source": [
        "# **FillNet Research Notebook #1**"
      ]
    },
    {
      "cell_type": "markdown",
      "metadata": {
        "id": "mFUSAu6TmofC"
      },
      "source": [
        "### **Scope**\n",
        "1.   Data Hunting ✅\n",
        "2.   Data Engineering ✅\n",
        "3.   Exploring the API ✅\n",
        "\n",
        "### **Coming Up**\n",
        "- Prototyping with fastai defaults (parameters, loss, activation).\n",
        "- Determine loss & output data type (axis-angle, rotation matrix, quaternion)"
      ]
    },
    {
      "cell_type": "markdown",
      "metadata": {
        "id": "XId3t5Na-wfe"
      },
      "source": [
        "## **1. Data Hunting**"
      ]
    },
    {
      "cell_type": "markdown",
      "metadata": {
        "id": "6qHbv5GqpaWo"
      },
      "source": [
        "First reading of [research paper](https://calciferzh.github.io/files/zhou2020monocular.pdf). \n",
        "\n",
        "Learned that: datasets used to train minimal-hand are of [3D-annotated, 2D-annotated, Motion Capture]; that loss functions and training process are defined at a **fairly** complex level of understanding; that for headfirst prototyping purposes, MoCap data is solely sufficient. "
      ]
    },
    {
      "cell_type": "code",
      "metadata": {
        "colab": {
          "base_uri": "https://localhost:8080/"
        },
        "id": "bLB0Ruj7mawN",
        "outputId": "2987f6be-d470-45a7-b9cc-2aa02320559b"
      },
      "source": [
        "from google.colab import drive\n",
        "drive.mount('/content/drive')"
      ],
      "execution_count": null,
      "outputs": [
        {
          "output_type": "stream",
          "text": [
            "Drive already mounted at /content/drive; to attempt to forcibly remount, call drive.mount(\"/content/drive\", force_remount=True).\n"
          ],
          "name": "stdout"
        }
      ]
    },
    {
      "cell_type": "code",
      "metadata": {
        "id": "E19rmmlAnghK"
      },
      "source": [
        "import numpy as np\n",
        "poses = np.load('./drive/MyDrive/make/Hand/handpose/mano_poses_v1_0/handsOnly_REGISTRATIONS_r_lm___POSES___R.npy')"
      ],
      "execution_count": null,
      "outputs": []
    },
    {
      "cell_type": "markdown",
      "metadata": {
        "id": "FcbcE87w-2AF"
      },
      "source": [
        "## **2. Data Engineering**"
      ]
    },
    {
      "cell_type": "code",
      "metadata": {
        "colab": {
          "base_uri": "https://localhost:8080/"
        },
        "id": "8owy_2KipSHZ",
        "outputId": "bcd67a6c-8423-4ef0-88a1-09be1f148492"
      },
      "source": [
        "poses.shape"
      ],
      "execution_count": null,
      "outputs": [
        {
          "output_type": "execute_result",
          "data": {
            "text/plain": [
              "(1554, 45)"
            ]
          },
          "metadata": {
            "tags": []
          },
          "execution_count": 10
        }
      ]
    },
    {
      "cell_type": "code",
      "metadata": {
        "colab": {
          "base_uri": "https://localhost:8080/"
        },
        "id": "wb7dlXr6pS1C",
        "outputId": "232cffbc-d0be-4253-bf81-6bea9d694f53"
      },
      "source": [
        "poses"
      ],
      "execution_count": null,
      "outputs": [
        {
          "output_type": "execute_result",
          "data": {
            "text/plain": [
              "array([[-0.16860745,  0.12699952, -0.13889985, ...,  0.01547092,\n",
              "         0.13283119, -0.28242049],\n",
              "       [-0.00193313, -0.07309378, -0.40431598, ...,  0.71033571,\n",
              "        -0.33469082,  0.69701037],\n",
              "       [-0.11891754,  0.02193251, -0.28468175, ...,  0.47163935,\n",
              "        -0.42118364, -0.0590474 ],\n",
              "       ...,\n",
              "       [-0.02013238,  0.17143567,  0.19258048, ...,  0.85280302,\n",
              "        -0.91707561,  0.72095209],\n",
              "       [ 0.06468249,  0.07182106, -0.04767938, ...,  0.71936823,\n",
              "        -0.32261746, -0.09735304],\n",
              "       [-0.01905158,  0.21760531,  0.14869293, ...,  0.29565598,\n",
              "         0.00755491, -0.22863567]])"
            ]
          },
          "metadata": {
            "tags": []
          },
          "execution_count": 11
        }
      ]
    },
    {
      "cell_type": "code",
      "metadata": {
        "id": "dWKDM1Pqpmjn"
      },
      "source": [
        "class MANOHandJoints:\n",
        "  n_joints = 16\n",
        "\n",
        "  labels = [\n",
        "    'I0', 'I1', 'I2', #2\n",
        "    'M0', 'M1', 'M2', #5\n",
        "    'L0', 'L1', 'L2', #8\n",
        "    'R0', 'R1', 'R2', #11\n",
        "    'T0', 'T1', 'T2', #14  \n",
        "  ]\n",
        "\n",
        "mano = MANOHandJoints()"
      ],
      "execution_count": null,
      "outputs": []
    },
    {
      "cell_type": "markdown",
      "metadata": {
        "id": "JEJg7WzvkCDN"
      },
      "source": [
        "Per Zhao, the MANO way of handling joints is different from how he thinks about them, so manually, he added the fingertip joints. It'll be great to catch what he said exactly.\n",
        "\n",
        "One question that must be cleared is: **\"Are the joint information entirely local? or does it include some sort of information based upon the global origin pose?\"** To my intuition, it does not matter what sort of representation is used - locality/globality is independent from that. \n",
        "\n",
        "My weak prediction says that yes, these are local. Because the parent-child relationship is explicitly stated from the code and paper of minimal-hand (where it mentions MANO)."
      ]
    },
    {
      "cell_type": "markdown",
      "metadata": {
        "id": "ZEktSrfL-6F3"
      },
      "source": [
        "## **3. Exploring the API**"
      ]
    },
    {
      "cell_type": "markdown",
      "metadata": {
        "id": "44fke7BXjG9Z"
      },
      "source": [
        "### **3.1. Before We Start**"
      ]
    },
    {
      "cell_type": "markdown",
      "metadata": {
        "id": "C4dNFPlrkbLF"
      },
      "source": [
        "Multi-output nature of our problem poses a problem for FastAI–we lack a well-documented example. (But it seems possible, even without getting hands dirty with fastai's mid-level API.) Let's look for advanced chapters of the FastBook for possible breakthroughs.\n",
        "\n",
        "Okay, FastBook doesn't discuss multi-output cases. Therefore, I've searched up for relevant discussions:\n",
        "   - https://forums.fast.ai/t/fastai-multi-value-regression-with-images-as-input/43866/2\n",
        "   - https://forums.fast.ai/t/i-dont-know-how-to-make-a-multi-output-model-for-structured-data-using-fastai-library/17891\n",
        "   - https://forums.fast.ai/t/tabular-data-with-multiple-outputs/34251\n",
        "   - https://forums.fast.ai/t/multiple-outputs/69137\n",
        "\n",
        "as well as relevant blog posts:\n",
        "   - https://towardsdatascience.com/multi-task-learning-with-pytorch-and-fastai-6d10dc7ce855\n",
        "   - https://getpocket.com/read/2928902383\n",
        "   - https://getpocket.com/read/3093587187\n"
      ]
    },
    {
      "cell_type": "markdown",
      "metadata": {
        "id": "lg5jklLhjMS1"
      },
      "source": [
        "### **3.2. 스크래치노트**"
      ]
    },
    {
      "cell_type": "markdown",
      "metadata": {
        "id": "OisZ9_W7SMAI"
      },
      "source": [
        "좋은 소식과 나쁜 소식—먼저, joint orientation은 꽤나 수학적인 개념이라서 데이터 pre-processing이 거의 필요 없다시피 함. TabularPandas같은 wrapper API를 배울 필요도 없고. 하지만, fastai API 자체가 생각만큼 간단하지 않으며, output이 곧 loss term이 되는 기본값이 axis-angle representation과 얼마나 부합할지... 느낌상으론, 잘되지 않을듯. 결과적으로 논문을 어떻게 오늘 안에 완성할지 모르겠다. 성공적으로 제출하는 시나리오가 있다면 1. 예상보다 결과가 너무 좋아서 개같이 만든 프로토타입을 그냥 제출; 2. 아무리 봐도 실패라서 그냥 실패한걸로 작성.\n",
        "\n",
        "일단 09_tabular에서 쓸만한 코드를 죄다 집어와보자! (약간의 수정을 거침)\n",
        "\n",
        "\n",
        "```\n",
        "df = pd.read_csv(path/'TrainAndValid.csv', low_memory=False)\n",
        "\n",
        "to = TabularPandas(df_final, procs, cat, cont, splits=splits, y_names=dep_var)\n",
        "\n",
        "dls = to.dataloaders(1024)\n",
        "\n",
        "learn = tabular_learner(dls, y_range=(8,12), layers=[500,250], n_out=1, loss_func=F.mse_loss)\n",
        "\n",
        "learn.fit_one_cycles(5, 1e-2)\n",
        "\n",
        "learn.save('neuralnetwork')\n",
        "```"
      ]
    },
    {
      "cell_type": "markdown",
      "metadata": {
        "id": "sKMSzteVD44y"
      },
      "source": [
        "### **3.3. Attempt**"
      ]
    },
    {
      "cell_type": "code",
      "metadata": {
        "id": "TwmTCUKYcgQQ"
      },
      "source": [
        "cols = [i+'_'+j for i in mano.labels for j in ['a','b','c']]\n",
        "input_cols = [cols[i] for i in [0,1,2, 9,10,11, 18,19,20, 27,28,29, 36,37,38]] # proximal\n",
        "# input_cols = [cols[i] for i in [3,4,5, 12,13,14, 21,22,23, 30,31,32, 39,40,41]] # intermediate\n",
        "# input_cols = [cols[i] for i in [6,7,8, 15,16,17, 24,25,26, 33,34,35, 42,43,44]] # distal"
      ],
      "execution_count": null,
      "outputs": []
    },
    {
      "cell_type": "code",
      "metadata": {
        "id": "GD4VmxYKYf-s"
      },
      "source": [
        "df = pd.DataFrame(poses, columns=cols)"
      ],
      "execution_count": null,
      "outputs": []
    },
    {
      "cell_type": "code",
      "metadata": {
        "id": "uajsJNTxjdts"
      },
      "source": [
        "train_idx = np.where(df[:1243])[0]\n",
        "valid_idx = np.where(df[1243:])[0]\n",
        "\n",
        "splits = (list(train_idx),list(valid_idx))"
      ],
      "execution_count": null,
      "outputs": []
    },
    {
      "cell_type": "code",
      "metadata": {
        "id": "wld9pvFWjjBi"
      },
      "source": [
        "to = TabularPandas(df, procs=None, cat_names=None, cont_names=input_cols, y_names=cols, splits=splits) # cont_names=cols는 어떨까."
      ],
      "execution_count": null,
      "outputs": []
    },
    {
      "cell_type": "code",
      "metadata": {
        "id": "6Kd3QO0Vwgky"
      },
      "source": [
        "dls = to.dataloaders(1024)"
      ],
      "execution_count": null,
      "outputs": []
    },
    {
      "cell_type": "code",
      "metadata": {
        "colab": {
          "base_uri": "https://localhost:8080/"
        },
        "id": "14c3v_nL2cYi",
        "outputId": "62323523-1e00-4f3d-8b3e-98bc1253aa15"
      },
      "source": [
        "y = to.train.y\n",
        "y.min(), y.max()"
      ],
      "execution_count": null,
      "outputs": [
        {
          "output_type": "execute_result",
          "data": {
            "text/plain": [
              "(-0.363310843706131, 0.617450475692749)"
            ]
          },
          "metadata": {
            "tags": []
          },
          "execution_count": 119
        }
      ]
    },
    {
      "cell_type": "code",
      "metadata": {
        "id": "Dt44-isz2da8"
      },
      "source": [
        "learn = tabular_learner(dls, layers = [2048, 1024, 512], y_range=(-1, 1), n_out=45, loss_func=F.mse_loss)"
      ],
      "execution_count": null,
      "outputs": []
    },
    {
      "cell_type": "code",
      "metadata": {
        "colab": {
          "base_uri": "https://localhost:8080/",
          "height": 298
        },
        "id": "Yrnu2S_Y3BI1",
        "outputId": "445912d0-03d2-4c2d-8c62-38d55e499c90"
      },
      "source": [
        "learn.lr_find()"
      ],
      "execution_count": null,
      "outputs": [
        {
          "output_type": "display_data",
          "data": {
            "text/html": [
              ""
            ],
            "text/plain": [
              "<IPython.core.display.HTML object>"
            ]
          },
          "metadata": {
            "tags": []
          }
        },
        {
          "output_type": "execute_result",
          "data": {
            "text/plain": [
              "SuggestedLRs(lr_min=0.025118863582611083, lr_steep=6.30957365501672e-05)"
            ]
          },
          "metadata": {
            "tags": []
          },
          "execution_count": 121
        },
        {
          "output_type": "display_data",
          "data": {
            "image/png": "[encoded data removed]",
            "text/plain": [
              "<Figure size 432x288 with 1 Axes>"
            ]
          },
          "metadata": {
            "tags": [],
            "needs_background": "light"
          }
        }
      ]
    },
    {
      "cell_type": "code",
      "metadata": {
        "colab": {
          "base_uri": "https://localhost:8080/",
          "height": 718
        },
        "id": "31L0UL7n3CQR",
        "outputId": "40a1a0a1-dba6-4884-fa5e-d6555118e6df"
      },
      "source": [
        "learn.fit_one_cycle(n_epoch=22, lr_max=1e-2)"
      ],
      "execution_count": null,
      "outputs": [
        {
          "output_type": "display_data",
          "data": {
            "text/html": [
              "<table border=\"1\" class=\"dataframe\">\n",
              "  <thead>\n",
              "    <tr style=\"text-align: left;\">\n",
              "      <th>epoch</th>\n",
              "      <th>train_loss</th>\n",
              "      <th>valid_loss</th>\n",
              "      <th>time</th>\n",
              "    </tr>\n",
              "  </thead>\n",
              "  <tbody>\n",
              "    <tr>\n",
              "      <td>0</td>\n",
              "      <td>0.178248</td>\n",
              "      <td>0.122754</td>\n",
              "      <td>00:00</td>\n",
              "    </tr>\n",
              "    <tr>\n",
              "      <td>1</td>\n",
              "      <td>0.119230</td>\n",
              "      <td>0.080251</td>\n",
              "      <td>00:00</td>\n",
              "    </tr>\n",
              "    <tr>\n",
              "      <td>2</td>\n",
              "      <td>0.086979</td>\n",
              "      <td>0.063281</td>\n",
              "      <td>00:00</td>\n",
              "    </tr>\n",
              "    <tr>\n",
              "      <td>3</td>\n",
              "      <td>0.071509</td>\n",
              "      <td>0.060446</td>\n",
              "      <td>00:00</td>\n",
              "    </tr>\n",
              "    <tr>\n",
              "      <td>4</td>\n",
              "      <td>0.064973</td>\n",
              "      <td>0.057768</td>\n",
              "      <td>00:00</td>\n",
              "    </tr>\n",
              "    <tr>\n",
              "      <td>5</td>\n",
              "      <td>0.061627</td>\n",
              "      <td>0.057545</td>\n",
              "      <td>00:00</td>\n",
              "    </tr>\n",
              "    <tr>\n",
              "      <td>6</td>\n",
              "      <td>0.064625</td>\n",
              "      <td>0.057488</td>\n",
              "      <td>00:00</td>\n",
              "    </tr>\n",
              "    <tr>\n",
              "      <td>7</td>\n",
              "      <td>0.060232</td>\n",
              "      <td>0.055088</td>\n",
              "      <td>00:00</td>\n",
              "    </tr>\n",
              "    <tr>\n",
              "      <td>8</td>\n",
              "      <td>0.057832</td>\n",
              "      <td>0.054789</td>\n",
              "      <td>00:00</td>\n",
              "    </tr>\n",
              "    <tr>\n",
              "      <td>9</td>\n",
              "      <td>0.057115</td>\n",
              "      <td>0.054325</td>\n",
              "      <td>00:00</td>\n",
              "    </tr>\n",
              "    <tr>\n",
              "      <td>10</td>\n",
              "      <td>0.056722</td>\n",
              "      <td>0.054496</td>\n",
              "      <td>00:00</td>\n",
              "    </tr>\n",
              "    <tr>\n",
              "      <td>11</td>\n",
              "      <td>0.056371</td>\n",
              "      <td>0.054059</td>\n",
              "      <td>00:00</td>\n",
              "    </tr>\n",
              "    <tr>\n",
              "      <td>12</td>\n",
              "      <td>0.055749</td>\n",
              "      <td>0.053851</td>\n",
              "      <td>00:00</td>\n",
              "    </tr>\n",
              "    <tr>\n",
              "      <td>13</td>\n",
              "      <td>0.055835</td>\n",
              "      <td>0.053689</td>\n",
              "      <td>00:00</td>\n",
              "    </tr>\n",
              "    <tr>\n",
              "      <td>14</td>\n",
              "      <td>0.055114</td>\n",
              "      <td>0.053543</td>\n",
              "      <td>00:00</td>\n",
              "    </tr>\n",
              "    <tr>\n",
              "      <td>15</td>\n",
              "      <td>0.054902</td>\n",
              "      <td>0.053363</td>\n",
              "      <td>00:00</td>\n",
              "    </tr>\n",
              "    <tr>\n",
              "      <td>16</td>\n",
              "      <td>0.054632</td>\n",
              "      <td>0.053397</td>\n",
              "      <td>00:00</td>\n",
              "    </tr>\n",
              "    <tr>\n",
              "      <td>17</td>\n",
              "      <td>0.054881</td>\n",
              "      <td>0.053236</td>\n",
              "      <td>00:00</td>\n",
              "    </tr>\n",
              "    <tr>\n",
              "      <td>18</td>\n",
              "      <td>0.054789</td>\n",
              "      <td>0.053118</td>\n",
              "      <td>00:00</td>\n",
              "    </tr>\n",
              "    <tr>\n",
              "      <td>19</td>\n",
              "      <td>0.054769</td>\n",
              "      <td>0.053044</td>\n",
              "      <td>00:00</td>\n",
              "    </tr>\n",
              "    <tr>\n",
              "      <td>20</td>\n",
              "      <td>0.054848</td>\n",
              "      <td>0.053018</td>\n",
              "      <td>00:00</td>\n",
              "    </tr>\n",
              "    <tr>\n",
              "      <td>21</td>\n",
              "      <td>0.054613</td>\n",
              "      <td>0.053006</td>\n",
              "      <td>00:00</td>\n",
              "    </tr>\n",
              "  </tbody>\n",
              "</table>"
            ],
            "text/plain": [
              "<IPython.core.display.HTML object>"
            ]
          },
          "metadata": {
            "tags": []
          }
        }
      ]
    },
    {
      "cell_type": "code",
      "metadata": {
        "colab": {
          "base_uri": "https://localhost:8080/",
          "height": 32
        },
        "id": "JEtDWrET3RBN",
        "outputId": "3b5fa363-a4e7-4d64-b52f-5e2fe64bb634"
      },
      "source": [
        "preds,targs = learn.get_preds()\n",
        "r_mse(preds,targs)"
      ],
      "execution_count": null,
      "outputs": [
        {
          "output_type": "display_data",
          "data": {
            "text/html": [
              ""
            ],
            "text/plain": [
              "<IPython.core.display.HTML object>"
            ]
          },
          "metadata": {
            "tags": []
          }
        },
        {
          "output_type": "execute_result",
          "data": {
            "text/plain": [
              "0.23023"
            ]
          },
          "metadata": {
            "tags": []
          },
          "execution_count": 123
        }
      ]
    },
    {
      "cell_type": "markdown",
      "metadata": {
        "id": "UNgIRuzY6E7v"
      },
      "source": [
        "아무것도 안건드렸는데도 지혼자 `0.45`까지 올라가는 바람에 그냥 이렇게 놔두고 이동. \n",
        "\n",
        "트레이닝 성공적! 역시 비주얼리제이션이 돼야 정확성에 대한 qualitative analysis가 가능해짐."
      ]
    },
    {
      "cell_type": "code",
      "metadata": {
        "colab": {
          "base_uri": "https://localhost:8080/"
        },
        "id": "tDcdLM_53nSs",
        "outputId": "aed1ffef-a5d9-4b56-d8e9-0ea222baa1a8"
      },
      "source": [
        "learn.save('fillnet_01')"
      ],
      "execution_count": null,
      "outputs": [
        {
          "output_type": "execute_result",
          "data": {
            "text/plain": [
              "Path('models/fillnet_01.pth')"
            ]
          },
          "metadata": {
            "tags": []
          },
          "execution_count": 22
        }
      ]
    },
    {
      "cell_type": "markdown",
      "metadata": {
        "id": "fLl7LdATuIkr"
      },
      "source": [
        "### **Why is `get_preds` Obscurely Long**?"
      ]
    },
    {
      "cell_type": "markdown",
      "metadata": {
        "id": "O7lhTQXausQD"
      },
      "source": [
        "For some unknown reason, `get_preds` returns `preds` of size `[13995, 45]` instead of the expected `[1554, 45]`. Here is a re-write of the code, only difference being a different output variable size (1 instead of 45); let's check if that makes a difference."
      ]
    },
    {
      "cell_type": "code",
      "metadata": {
        "colab": {
          "base_uri": "https://localhost:8080/",
          "height": 538
        },
        "id": "5gPM1aM9vPI1",
        "outputId": "d7ea232b-179d-47d1-e101-f8764912a38b"
      },
      "source": [
        "to_001 = TabularPandas(df, procs=None, cat_names=None, cont_names=input_cols, y_names='I0_a', splits=splits) # cont_names=cols는 어떨까.\n",
        "dls_001 = to_001.dataloaders(1024)\n",
        "y_001 = to_001.train.y\n",
        "y_001.min(), y_001.max()\n",
        "learn_001 = tabular_learner(dls_001, y_range=(-1, 1), n_out=45, loss_func=F.mse_loss)\n",
        "learn_001.lr_find()\n",
        "learn_001.fit_one_cycle(n_epoch=4, lr_max=1e-1)\n",
        "\n",
        "preds_001,targs_001 = learn_001.get_preds()\n",
        "r_mse(preds_001,targs_001)\n",
        "print(preds_001.shape)"
      ],
      "execution_count": null,
      "outputs": [
        {
          "output_type": "display_data",
          "data": {
            "text/html": [
              ""
            ],
            "text/plain": [
              "<IPython.core.display.HTML object>"
            ]
          },
          "metadata": {
            "tags": []
          }
        },
        {
          "output_type": "stream",
          "text": [
            "/usr/local/lib/python3.7/dist-packages/fastai/learner.py:172: UserWarning: Using a target size (torch.Size([1024, 1])) that is different to the input size (torch.Size([1024, 45])). This will likely lead to incorrect results due to broadcasting. Please ensure they have the same size.\n",
            "  self.loss_grad = self.loss_func(self.pred, *self.yb)\n"
          ],
          "name": "stderr"
        },
        {
          "output_type": "display_data",
          "data": {
            "text/html": [
              "<table border=\"1\" class=\"dataframe\">\n",
              "  <thead>\n",
              "    <tr style=\"text-align: left;\">\n",
              "      <th>epoch</th>\n",
              "      <th>train_loss</th>\n",
              "      <th>valid_loss</th>\n",
              "      <th>time</th>\n",
              "    </tr>\n",
              "  </thead>\n",
              "  <tbody>\n",
              "    <tr>\n",
              "      <td>0</td>\n",
              "      <td>0.005475</td>\n",
              "      <td>0.000247</td>\n",
              "      <td>00:00</td>\n",
              "    </tr>\n",
              "    <tr>\n",
              "      <td>1</td>\n",
              "      <td>0.001584</td>\n",
              "      <td>0.000177</td>\n",
              "      <td>00:00</td>\n",
              "    </tr>\n",
              "    <tr>\n",
              "      <td>2</td>\n",
              "      <td>0.000550</td>\n",
              "      <td>0.000017</td>\n",
              "      <td>00:00</td>\n",
              "    </tr>\n",
              "    <tr>\n",
              "      <td>3</td>\n",
              "      <td>0.000220</td>\n",
              "      <td>0.000008</td>\n",
              "      <td>00:00</td>\n",
              "    </tr>\n",
              "  </tbody>\n",
              "</table>"
            ],
            "text/plain": [
              "<IPython.core.display.HTML object>"
            ]
          },
          "metadata": {
            "tags": []
          }
        },
        {
          "output_type": "stream",
          "text": [
            "/usr/local/lib/python3.7/dist-packages/fastai/learner.py:172: UserWarning: Using a target size (torch.Size([683, 1])) that is different to the input size (torch.Size([683, 45])). This will likely lead to incorrect results due to broadcasting. Please ensure they have the same size.\n",
            "  self.loss_grad = self.loss_func(self.pred, *self.yb)\n"
          ],
          "name": "stderr"
        },
        {
          "output_type": "display_data",
          "data": {
            "text/html": [
              ""
            ],
            "text/plain": [
              "<IPython.core.display.HTML object>"
            ]
          },
          "metadata": {
            "tags": []
          }
        },
        {
          "output_type": "stream",
          "text": [
            "torch.Size([13995, 45])\n"
          ],
          "name": "stdout"
        },
        {
          "output_type": "display_data",
          "data": {
            "image/png": "[encoded data removed]",
            "text/plain": [
              "<Figure size 432x288 with 1 Axes>"
            ]
          },
          "metadata": {
            "tags": [],
            "needs_background": "light"
          }
        }
      ]
    },
    {
      "cell_type": "markdown",
      "metadata": {
        "id": "vUU3K_JLwpZ7"
      },
      "source": [
        "동일하게 13995 사이즈이므로 무언가 문제가 있다 생각이 된다. 하지만 솔직히 이거 트러블슈팅할 시간 없다 그냥 내자"
      ]
    },
    {
      "cell_type": "markdown",
      "metadata": {
        "id": "I6n1R7UL-ESl"
      },
      "source": [
        "# **FillNet Research Notebook #2**"
      ]
    },
    {
      "cell_type": "markdown",
      "metadata": {
        "id": "KFjqD7W9-Hsi"
      },
      "source": [
        "### **Scope**\n",
        "0. Streamlining fastai ✅\n",
        "1. Loss Function Variation ❎\n",
        "2. Hyperparameter Variation\n",
        "3. Input Data Variation (experimental variable) ✅\n",
        "\n",
        "### **Coming Up**\n",
        "- Statistical analysis for accuracy\n",
        "  - current idea: [mean absolute error](https://summer.gatech.edu/ignite-tentative-course-list-2021/)\n",
        "  - for position and angle"
      ]
    },
    {
      "cell_type": "markdown",
      "metadata": {
        "id": "K0FywX40_DLP"
      },
      "source": [
        "## **1. Loss Function Variation**"
      ]
    },
    {
      "cell_type": "markdown",
      "metadata": {
        "id": "smeHL8Dc_b4N"
      },
      "source": [
        "**Process**:\n",
        "- axis-angle representation -> quaternion representation\n",
        "- learn\n",
        "- create predictions, targets\n",
        "- revert predictions, targets to axis-angle\n",
        "- evaluate root-mean-squared error (RMSE)\n",
        "\n",
        "and then repeat, for rotation matrix representation"
      ]
    },
    {
      "cell_type": "markdown",
      "metadata": {
        "id": "NseMTUH8AEBy"
      },
      "source": [
        "But before doing that, let's read how Zhao's done it for minimal-hand. This man's smart asf, and probably there lies a clever reasoning behind how and why he does what he does. "
      ]
    },
    {
      "cell_type": "markdown",
      "metadata": {
        "id": "l112T8e-ATfL"
      },
      "source": [
        "Zhao defines joint orientation in **quaternions**. He defines a loss function comprised of four terms: 1. the cosine of angle difference (computed directly from quaternions), 2. direct quaternion difference, 3. (??? data pulled from DetNet to add robustness against DetNet-borne noise), 4. quaternion norm (to \"softly constrain into normalized quaternions\").\n",
        "\n",
        "Thought Food: It's interesting what effect the direct quaternion difference loss term has on the overarching performance of the network. Normally, wouldn't one think that the angle difference is what counts?"
      ]
    },
    {
      "cell_type": "code",
      "metadata": {
        "id": "26_lSx0nPuc7"
      },
      "source": [
        "class MANOHandJoints:\n",
        "  n_joints = 15\n",
        "\n",
        "  labels = [\n",
        "    'I0', 'I1', 'I2', #2\n",
        "    'M0', 'M1', 'M2', #5\n",
        "    'L0', 'L1', 'L2', #8\n",
        "    'R0', 'R1', 'R2', #11\n",
        "    'T0', 'T1', 'T2', #14  \n",
        "  ]\n",
        "\n",
        "mano = MANOHandJoints()\n",
        "\n",
        "\n",
        "def r_mse(pred,y): return round(math.sqrt(((pred-y)**2).mean()), 6)\n",
        "\n",
        "cols_axang = [i+'_'+j for i in mano.labels for j in ['a','b','c']]\n",
        "cols_quat = [i+'_'+j for i in mano.labels for j in ['q', 'x', 'y', 'z']]\n",
        "\n",
        "def select_cols(cols, selection): return [cols[i] for i in selection]\n",
        "\n",
        "def split(df, ratio): \n",
        "    marker = int(poses.shape[0] * ratio)\n",
        "    train_idx = np.where(df[:marker])[0]\n",
        "    valid_idx = np.where(df[marker:])[0]\n",
        "    splits = (list(train_idx),list(valid_idx)); return splits"
      ],
      "execution_count": null,
      "outputs": []
    },
    {
      "cell_type": "code",
      "metadata": {
        "id": "sszkWQuQP5Rf"
      },
      "source": [
        "def ml(cols, input_cols, data, split_ratio):\n",
        "    # data initialization\n",
        "    df = pd.DataFrame(data, columns=cols)\n",
        "    # further initialization\n",
        "    to = TabularPandas(df, procs=None, cat_names=None, cont_names=input_cols, y_names=cols, splits=split(df, split_ratio))\n",
        "    # dataloader\n",
        "    dls = to.dataloaders(1024)\n",
        "\n",
        "    y = to.train.y\n",
        "    y.min(), y.max()\n",
        "\n",
        "    learn = tabular_learner(dls, y_range=(-1, 1), n_out=data.shape[1], loss_func=F.mse_loss)\n",
        "    learn.lr_find()\n",
        "    learn.fit_one_cycle(n_epoch=4, lr_max=1e-1)\n",
        "\n",
        "    preds,targs = learn.get_preds()\n",
        "    return r_mse(preds,targs)"
      ],
      "execution_count": null,
      "outputs": []
    },
    {
      "cell_type": "markdown",
      "metadata": {
        "id": "m8oX256xWulE"
      },
      "source": [
        "```\n",
        "input_cols = select_cols(cols_axang, [1, 4, 7, 10, 13])\n",
        "\n",
        "ml(input_cols, poses_quat, split_ratio=0.8)\n",
        "```"
      ]
    },
    {
      "cell_type": "code",
      "metadata": {
        "id": "Q0SDlABVXLK0"
      },
      "source": [
        "poses = np.load('./drive/MyDrive/make/Hand/handpose/mano_poses_v1_0/handsOnly_REGISTRATIONS_r_lm___POSES___R.npy')"
      ],
      "execution_count": null,
      "outputs": []
    },
    {
      "cell_type": "code",
      "metadata": {
        "id": "bUX0zS-HZt7v"
      },
      "source": [
        "poses_quat = np.zeros(shape=[poses.shape[0], 60])\n",
        "\n",
        "for row in range(poses.shape[0]):\n",
        "    for i in range(15): \n",
        "        iii, iiii = i*3, i*4\n",
        "        axang = [poses[row,iii+0], poses[row,iii+1], poses[row,iii+2]]\n",
        "        quat = axang2quat(axis=[axang[0], axang[1], 0], angle=axang[2]) # 3-element axang to 4-element axang, how?\n",
        "        \n",
        "        poses_quat[row, iiii+0] = quat[0]\n",
        "        poses_quat[row, iiii+1] = quat[1]\n",
        "        poses_quat[row, iiii+2] = quat[2]\n",
        "        poses_quat[row, iiii+3] = quat[3]"
      ],
      "execution_count": null,
      "outputs": []
    },
    {
      "cell_type": "code",
      "metadata": {
        "colab": {
          "base_uri": "https://localhost:8080/",
          "height": 452
        },
        "id": "IHKfy95IUPi_",
        "outputId": "f4c46480-3a3c-44ca-fd71-bee63a4e2b5d"
      },
      "source": [
        "input_cols = select_cols(cols_quat, [4,5,6,7, 16,17,18,19, 28,29,30,31, 40,41,42,43, 52,53,54,55])\n",
        "\n",
        "print(ml(cols_quat, input_cols, poses_quat, split_ratio=0.8))"
      ],
      "execution_count": null,
      "outputs": [
        {
          "output_type": "display_data",
          "data": {
            "text/html": [
              ""
            ],
            "text/plain": [
              "<IPython.core.display.HTML object>"
            ]
          },
          "metadata": {
            "tags": []
          }
        },
        {
          "output_type": "display_data",
          "data": {
            "text/html": [
              "<table border=\"1\" class=\"dataframe\">\n",
              "  <thead>\n",
              "    <tr style=\"text-align: left;\">\n",
              "      <th>epoch</th>\n",
              "      <th>train_loss</th>\n",
              "      <th>valid_loss</th>\n",
              "      <th>time</th>\n",
              "    </tr>\n",
              "  </thead>\n",
              "  <tbody>\n",
              "    <tr>\n",
              "      <td>0</td>\n",
              "      <td>0.059994</td>\n",
              "      <td>0.019472</td>\n",
              "      <td>00:00</td>\n",
              "    </tr>\n",
              "    <tr>\n",
              "      <td>1</td>\n",
              "      <td>0.026106</td>\n",
              "      <td>0.014383</td>\n",
              "      <td>00:00</td>\n",
              "    </tr>\n",
              "    <tr>\n",
              "      <td>2</td>\n",
              "      <td>0.014390</td>\n",
              "      <td>0.007806</td>\n",
              "      <td>00:00</td>\n",
              "    </tr>\n",
              "    <tr>\n",
              "      <td>3</td>\n",
              "      <td>0.009615</td>\n",
              "      <td>0.006923</td>\n",
              "      <td>00:00</td>\n",
              "    </tr>\n",
              "  </tbody>\n",
              "</table>"
            ],
            "text/plain": [
              "<IPython.core.display.HTML object>"
            ]
          },
          "metadata": {
            "tags": []
          }
        },
        {
          "output_type": "display_data",
          "data": {
            "text/html": [
              ""
            ],
            "text/plain": [
              "<IPython.core.display.HTML object>"
            ]
          },
          "metadata": {
            "tags": []
          }
        },
        {
          "output_type": "stream",
          "text": [
            "0.083207\n"
          ],
          "name": "stdout"
        },
        {
          "output_type": "display_data",
          "data": {
            "image/png": "[encoded data removed]",
            "text/plain": [
              "<Figure size 432x288 with 1 Axes>"
            ]
          },
          "metadata": {
            "tags": [],
            "needs_background": "light"
          }
        }
      ]
    },
    {
      "cell_type": "code",
      "metadata": {
        "colab": {
          "base_uri": "https://localhost:8080/"
        },
        "id": "VeLVyi1XfcuP",
        "outputId": "6474173c-40d0-4bb9-87ff-29d4899d7243"
      },
      "source": [
        "len(cols_quat)"
      ],
      "execution_count": null,
      "outputs": [
        {
          "output_type": "execute_result",
          "data": {
            "text/plain": [
              "60"
            ]
          },
          "metadata": {
            "tags": []
          },
          "execution_count": 29
        }
      ]
    },
    {
      "cell_type": "code",
      "metadata": {
        "colab": {
          "base_uri": "https://localhost:8080/"
        },
        "id": "Dtu-jJXotmEF",
        "outputId": "f1acd567-e81a-4398-9916-c5335c6812ed"
      },
      "source": [
        "poses_quat.shape"
      ],
      "execution_count": null,
      "outputs": [
        {
          "output_type": "execute_result",
          "data": {
            "text/plain": [
              "(1554, 60)"
            ]
          },
          "metadata": {
            "tags": []
          },
          "execution_count": 30
        }
      ]
    },
    {
      "cell_type": "markdown",
      "metadata": {
        "id": "aehR8tN4_-eC"
      },
      "source": [
        "## **타임!**\n",
        "\n",
        "### **work still required for paper**\n",
        "- Completion of model\n",
        "  - Loss function for training \n",
        "    - effectively a validation set: semi-visible to the model but necessary for model\n",
        "  - Accuracy function for decision-making\n",
        "    - effectively a test set: invisible to the model, but necessary for me\n",
        "- Qualitative analysis method\n",
        "  - = visualization\n",
        "  - Pose estimation is an intrinsically visual task; we humans represent it in visual forms\n"
      ]
    },
    {
      "cell_type": "markdown",
      "metadata": {
        "id": "pE4-8nCLGO2J"
      },
      "source": [
        "## 공부를 좀 했다\n",
        "\n",
        "배운점:\n",
        "- 손해함수 정의하는거 은근 쉽다; 거의 코드의 탈을 쓴 수학. `포워드`에선 손해를 계산하여 반환한다. 예시에선 거의 모든 계산을 `반환` 키워드 후에 한번에 통짜로 하는데, 내 생각엔 경사하강을 위해선 함수의 미분을 프로그램이 알아야 하기때문에, 가장 난해하지 않은 방식으로, 컴퓨터가 미분값을 알 수 있게 계산해야 한다 추정했는데, 이게 맞는지는 아직 모르겠다. \n",
        "  - Zhao가 쿼터니온을 사용한 계기를 설명하며 \"삼각함수를 사용하지 않으므로 non-injective하여 트레이닝에 우월하다나 뭐라나\" 그랬는데, 아무쪼록 이거랑 관련되었을 듯. 암튼 Zhao의 손해함수를 모방하는 것이 좋은 결과를 만들거란 것을 아직 확신.\n",
        "- `activation`과 `decode` 함수를 정의해야 하지만, 사실상 API적 껍데기이다. 단순히 [`softmax`](https://medium.com/data-science-bootcamp/understand-the-softmax-function-in-minutes-f3a59641e86d)와 [`argmax`](https://machinelearningmastery.com/argmax-in-machine-learning/)를 반환하면 된다. \n",
        "- [FastBook 손해함수 예시](https://docs.fast.ai/tutorial.imagenette#Changing-the-loss-function)"
      ]
    },
    {
      "cell_type": "markdown",
      "metadata": {
        "id": "zP8WnbsHzjwY"
      },
      "source": [
        "### 공부를 더 함\n",
        "\n",
        "**Why can’t we use accuracy as a loss function?**\n",
        "\n",
        "According to [sinclair](https://mjwoo001.medium.com/why-cant-we-use-accuracy-as-a-loss-function-c15c54ca2e0a): \"A loss function must be differentiable to perform gradient descent. It seems like you’re trying to measure some sort of 1-accuracy. This doesn’t have a derivative, so you can’t use it.\n",
        "\n",
        "- *gradient descent* : An optimization algorithm used to minimize some function by iteratively moving in the direction of steepest descent as defined by the negative of the gradient. -> This is the way to fine linear and the machine learns it.\"\n",
        "\n",
        "그니까 내 직감이 맞았네. 손해함수는 아무거나 떄려박는다고 되는건 아니다. 모델을 향상하려면 미분값이 필요하다. 변수가 2개쯤이라면 brute-forcing하면 되겠지만, 변수가 15개씩 되면 기하급수적으로 계산량이 늘어난다. "
      ]
    },
    {
      "cell_type": "markdown",
      "metadata": {
        "id": "qyNqC5Rn3oM-"
      },
      "source": [
        "**결론.** The above outline still applies. However: the loss function must be differentiable in addition to \"relevant\" (in terms of model improvement). 그러니까 인균형한테 물어보는게 역시 맞다. 요지는: 3D orientation에 대한 loss function을 구현하려 한다는 것; Zhao가 만든 예시를 보여주는 것; 각 input variable에 직접적으로 대응하는 미분이 필요할텐데 손해함수 내의 계산이 복잡해지거나 난해해진다면 프로그램은 그것을 처리할 수 있는지, 만약 가능하다면 어떻게인지, 불가능하다면 어떤 가능성이 있을지."
      ]
    },
    {
      "cell_type": "markdown",
      "metadata": {
        "id": "Yg6KnZgbaAJ3"
      },
      "source": [
        "### 이제 쓰자\n",
        "\n",
        "FastAI Template\n",
        "```\n",
        "class LabelSmoothingCE(Module):\n",
        "    def __init__(self, self.eps = 0.1, reduction='mean'): self.eps,self.reduction = eps,reduction\n",
        "\n",
        "    def forward(self, output, target):\n",
        "        c = output.size()[-1]\n",
        "        log_preds = F.log_softmax(output, dim=-1)\n",
        "        if self.reduction=='sum': loss = -log_preds.sum()\n",
        "        else:\n",
        "            loss = -log_preds.sum(dim=-1) #We divide by that size at the return line so sum and not mean\n",
        "            if self.reduction=='mean':  loss = loss.mean()\n",
        "        return loss*self.eps/c + (1-self.eps) * F.nll_loss(log_preds, target.long(), reduction=self.reduction)\n",
        "\n",
        "    def activation(self, out): return F.softmax(out, dim=-1)\n",
        "    def decodes(self, out):    return out.argmax(dim=-1)\n",
        "```\n",
        "\n",
        "[Deconstructing `axis=-1`](https://stackoverflow.com/questions/47435526/what-is-the-meaning-of-axis-1-in-keras-argmax)"
      ]
    },
    {
      "cell_type": "markdown",
      "metadata": {
        "id": "oQV0urfMj5aM"
      },
      "source": [
        "**Pseudocode**\n",
        "1. Perform quaternion inverse\n",
        "2. Perform quaternion multiplication\n",
        "3. Extract real parts; subtract from 1.\n"
      ]
    },
    {
      "cell_type": "code",
      "metadata": {
        "colab": {
          "base_uri": "https://localhost:8080/",
          "height": 116
        },
        "id": "_xUyfWbBBT_o",
        "outputId": "bb2d9181-9505-490a-ca06-f9f7a6de377e"
      },
      "source": [
        "'''class QuaternionLoss(Module):\n",
        "    def __init__(self, reduction='mean'): self.reduction = reduction\n",
        "\n",
        "    def forward(self, output, target):\n",
        "        c = output.size()[-1]\n",
        "        quaternion\n",
        "        for i in range(15): for j in range(4): \n",
        "        \n",
        "        if self.reduction='sum':\n",
        "            pass\n",
        "        \n",
        "        if self.reduction=='mean':\n",
        "            pass\n",
        "        \n",
        "    def activation(self, out): return F.softmax(out, dim=-1)\n",
        "    def decodes(self, out):       return out.argmax(dim=-1)'''"
      ],
      "execution_count": null,
      "outputs": [
        {
          "output_type": "execute_result",
          "data": {
            "application/vnd.google.colaboratory.intrinsic+json": {
              "type": "string"
            },
            "text/plain": [
              "\"class QuaternionLoss(Module):\\n    def __init__(self, reduction='mean'): self.reduction = reduction\\n\\n    def forward(self, output, target):\\n        c = output.size()[-1]\\n        quaternion\\n        for i in range(15): for j in range(4): \\n        \\n        if self.reduction='sum':\\n            pass\\n        \\n        if self.reduction=='mean':\\n            pass\\n        \\n    def activation(self, out): return F.softmax(out, dim=-1)\\n    def decodes(self, out):       return out.argmax(dim=-1)\""
            ]
          },
          "metadata": {
            "tags": []
          },
          "execution_count": 31
        }
      ]
    },
    {
      "cell_type": "markdown",
      "metadata": {
        "id": "dsnyWZqGiC-D"
      },
      "source": [
        "Unanswered Questions\n",
        "- wtf is a reduction?\n",
        "- `F` is from PyTorch. What do I import to use it?"
      ]
    },
    {
      "cell_type": "markdown",
      "metadata": {
        "id": "Mw2rY_dZxKUC"
      },
      "source": [
        "## **Hyperparameter Variation**"
      ]
    },
    {
      "cell_type": "markdown",
      "metadata": {
        "id": "UOOCQe_3xQne"
      },
      "source": [
        ""
      ]
    },
    {
      "cell_type": "markdown",
      "metadata": {
        "id": "TwbbFGUFJVq8"
      },
      "source": [
        "# **FillNet Research Notebook #3**"
      ]
    },
    {
      "cell_type": "code",
      "metadata": {
        "id": "aGJkVnXLNSq_"
      },
      "source": [
        "MANO_parents = [\n",
        "    None, 0, 1,\n",
        "    None, 3, 4,\n",
        "    None, 6, 7,\n",
        "    None, 9, 10,\n",
        "    None, 12, 13\n",
        "]"
      ],
      "execution_count": null,
      "outputs": []
    },
    {
      "cell_type": "code",
      "metadata": {
        "id": "7BsXAmNiJXwO"
      },
      "source": [
        "pred = preds[0,:]; targ = targs[0,:]\n",
        "\n",
        "def mae_angle(pred, targ):\n",
        "    joint_pd = [None]*15\n",
        "    joint_gt = [None]*15\n",
        "    error = np.zeros(shape=[15])\n",
        "\n",
        "    for i in range(15):\n",
        "        idx = 3*i\n",
        "        \n",
        "        joint_pd[i] = R.from_rotvec([targ[idx+0], targ[idx+1], targ[idx+2]])\n",
        "        joint_gt[i] = R.from_rotvec([pred[idx+0], pred[idx+1], pred[idx+2]])\n",
        "\n",
        "        if MANO_parents[i]:\n",
        "            joint_pd[i] = joint_pd[i]*joint_pd[MANO_parents[i]]\n",
        "            joint_gt[i] = joint_gt[i]*joint_gt[MANO_parents[i]]\n",
        "\n",
        "        # a = joint_pd[i].copy(); b = joint_gt[i].copy()\n",
        "        a = joint_pd[i]; b = joint_gt[i]\n",
        "        error[i] = (a.inv()*b).magnitude()\n",
        "\n",
        "\n",
        "    return np.mean(error)"
      ],
      "execution_count": null,
      "outputs": []
    },
    {
      "cell_type": "code",
      "metadata": {
        "colab": {
          "base_uri": "https://localhost:8080/"
        },
        "id": "l4qRp5pkSB_C",
        "outputId": "484f0882-4492-4edb-e827-6e3c072c9eab"
      },
      "source": [
        "mae_angle(pred, targ)"
      ],
      "execution_count": null,
      "outputs": [
        {
          "output_type": "execute_result",
          "data": {
            "text/plain": [
              "0.32077846911183083"
            ]
          },
          "metadata": {
            "tags": []
          },
          "execution_count": 34
        }
      ]
    },
    {
      "cell_type": "code",
      "metadata": {
        "id": "6bGsptpNSHm1"
      },
      "source": [
        "def mae_angles(preds, targs):\n",
        "    if not preds.shape[0] == targs.shape[0]: return\n",
        "\n",
        "    h = preds.shape[0]\n",
        "\n",
        "    errors = np.zeros(h)\n",
        "\n",
        "    for i in range(h):\n",
        "        errors[i] = mae_angle(preds[i], targs[i])\n",
        "\n",
        "    return np.mean(errors)"
      ],
      "execution_count": null,
      "outputs": []
    },
    {
      "cell_type": "code",
      "metadata": {
        "id": "LeJ4QJ9rTzzD"
      },
      "source": [
        "mae_in_angles = mae_angles(preds, targs)"
      ],
      "execution_count": null,
      "outputs": []
    },
    {
      "cell_type": "code",
      "metadata": {
        "colab": {
          "base_uri": "https://localhost:8080/"
        },
        "id": "vVIKomlXzggd",
        "outputId": "ec59e4a7-3a71-419a-e64e-e8020db7d74a"
      },
      "source": [
        "round(mae_in_angles * 180 / 3.14, 2)"
      ],
      "execution_count": null,
      "outputs": [
        {
          "output_type": "execute_result",
          "data": {
            "text/plain": [
              "8.93"
            ]
          },
          "metadata": {
            "tags": []
          },
          "execution_count": 125
        }
      ]
    },
    {
      "cell_type": "code",
      "metadata": {
        "id": "wFQgSltgJeYx",
        "colab": {
          "base_uri": "https://localhost:8080/"
        },
        "outputId": "8ebfb111-b13d-448f-8675-9ed2f5de9ec7"
      },
      "source": [
        "# 근데 이 preds, targs이 axis-angle representation (NB#1.3.3)의 걔가 맞나...?\n",
        "preds.shape, targs.shape\n",
        "# 맞네. 근데 소스 데이터 엔트리가 1554개인데 어떻게 타겟값이 13995지... 이거 만든건가? 뭐지 preds와 targs라는거?"
      ],
      "execution_count": null,
      "outputs": [
        {
          "output_type": "execute_result",
          "data": {
            "text/plain": [
              "(torch.Size([13995, 45]), torch.Size([13995, 45]))"
            ]
          },
          "metadata": {
            "tags": []
          },
          "execution_count": 38
        }
      ]
    },
    {
      "cell_type": "markdown",
      "metadata": {
        "id": "qF19s9GWKSjy"
      },
      "source": [
        "\n",
        "\n",
        "*   Proximal: `0.30444651398953615`, `0.2925911194415169`, `0.29445168103560426`, `0.29492580391595413`, `0.29148365635624424`\n",
        "*   Intermediate: `0.298127249837953`, `0.2971486160172602`\n",
        "*   Distal: `0.33528198386633556`, `0.3359353493148906`\n",
        "\n",
        "이유는 파악 못했지만, 런타임 재시작이 필수적인듯. 값이 다르다. \n",
        "\n",
        "아니구나... 똑같다..."
      ]
    },
    {
      "cell_type": "markdown",
      "metadata": {
        "id": "jn1mmHloSZkq"
      },
      "source": [
        "![alt text](/content/drive/MyDrive/make/Hand/handpose/MAE_Reference_Screenshot.png \"Title\")\n",
        "<img src=\"/content/drive/MyDrive/make/Hand/handpose/MAE_Reference_Screenshot.png\">"
      ]
    }
  ]
}